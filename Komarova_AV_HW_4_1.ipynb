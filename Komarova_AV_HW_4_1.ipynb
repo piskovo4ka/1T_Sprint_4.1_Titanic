{
  "nbformat": 4,
  "nbformat_minor": 0,
  "metadata": {
    "colab": {
      "provenance": [],
      "toc_visible": true
    },
    "kernelspec": {
      "name": "python3",
      "display_name": "Python 3"
    },
    "language_info": {
      "name": "python"
    },
    "gpuClass": "standard",
    "widgets": {
      "application/vnd.jupyter.widget-state+json": {
        "078298ba5ddc4a5c90a768b97409d39c": {
          "model_module": "catboost-widget",
          "model_name": "CatboostWidgetModel",
          "model_module_version": "^1.0.0",
          "state": {
            "_dom_classes": [],
            "_model_module": "catboost-widget",
            "_model_module_version": "^1.0.0",
            "_model_name": "CatboostWidgetModel",
            "_view_count": null,
            "_view_module": "catboost-widget",
            "_view_module_version": "^1.0.0",
            "_view_name": "CatboostWidgetView",
            "data": {
              "catboost_info": {
                "path": "catboost_info",
                "name": "catboost_info",
                "content": {
                  "passed_iterations": 9,
                  "total_iterations": 10,
                  "data": {
                    "iterations": [
                      {
                        "parameters": [
                          {
                            "depth": 3,
                            "learning_rate": 0.07333333333,
                            "l2_leaf_reg": 5,
                            "iterations": 200
                          }
                        ],
                        "learn": [
                          0.8709677419,
                          0.3286587503
                        ],
                        "iteration": 0,
                        "passed_time": 0.733564273,
                        "remaining_time": 6.602078457,
                        "test": [
                          0.7903225806,
                          0.5031683939
                        ]
                      },
                      {
                        "parameters": [
                          {
                            "depth": 3,
                            "learning_rate": 0.07333333333,
                            "l2_leaf_reg": 2,
                            "iterations": 300
                          }
                        ],
                        "learn": [
                          0.9012096774,
                          0.275183804
                        ],
                        "iteration": 1,
                        "passed_time": 1.503547947,
                        "remaining_time": 6.014191787,
                        "test": [
                          0.7983870968,
                          0.5029428341
                        ]
                      },
                      {
                        "parameters": [
                          {
                            "depth": 3,
                            "learning_rate": 0.1366666667,
                            "l2_leaf_reg": 2,
                            "iterations": 300
                          }
                        ],
                        "learn": [
                          0.9415322581,
                          0.2057613766
                        ],
                        "iteration": 2,
                        "passed_time": 2.123332233,
                        "remaining_time": 4.954441877,
                        "test": [
                          0.7983870968,
                          0.4981097787
                        ]
                      },
                      {
                        "parameters": [
                          {
                            "depth": 3,
                            "learning_rate": 0.1577777778,
                            "l2_leaf_reg": 5,
                            "iterations": 300
                          }
                        ],
                        "learn": [
                          0.9314516129,
                          0.218501204
                        ],
                        "iteration": 3,
                        "passed_time": 2.829767758,
                        "remaining_time": 4.244651637,
                        "test": [
                          0.7983870968,
                          0.4992338227
                        ]
                      },
                      {
                        "parameters": [
                          {
                            "depth": 6,
                            "learning_rate": 0.03111111111,
                            "l2_leaf_reg": 2,
                            "iterations": 300
                          }
                        ],
                        "learn": [
                          0.9213709677,
                          0.254964411
                        ],
                        "iteration": 4,
                        "passed_time": 3.628777231,
                        "remaining_time": 3.628777231,
                        "test": [
                          0.7741935484,
                          0.5065658834
                        ]
                      },
                      {
                        "parameters": [
                          {
                            "depth": 6,
                            "learning_rate": 0.05222222222,
                            "l2_leaf_reg": 2,
                            "iterations": 300
                          }
                        ],
                        "learn": [
                          0.9556451613,
                          0.191273885
                        ],
                        "iteration": 5,
                        "passed_time": 4.815388933,
                        "remaining_time": 3.210259289,
                        "test": [
                          0.7903225806,
                          0.5018624666
                        ]
                      },
                      {
                        "parameters": [
                          {
                            "depth": 6,
                            "learning_rate": 0.1366666667,
                            "l2_leaf_reg": 2,
                            "iterations": 300
                          }
                        ],
                        "learn": [
                          0.9858870968,
                          0.07504702753
                        ],
                        "iteration": 6,
                        "passed_time": 6.278947331,
                        "remaining_time": 2.690977427,
                        "test": [
                          0.8064516129,
                          0.5028821544
                        ]
                      },
                      {
                        "parameters": [
                          {
                            "depth": 6,
                            "learning_rate": 0.05222222222,
                            "l2_leaf_reg": 5,
                            "iterations": 300
                          }
                        ],
                        "learn": [
                          0.9415322581,
                          0.2220215264
                        ],
                        "iteration": 7,
                        "passed_time": 7.777076487,
                        "remaining_time": 1.944269122,
                        "test": [
                          0.7903225806,
                          0.5046552947
                        ]
                      },
                      {
                        "parameters": [
                          {
                            "depth": 6,
                            "learning_rate": 0.1155555556,
                            "l2_leaf_reg": 5,
                            "iterations": 300
                          }
                        ],
                        "learn": [
                          0.9717741935,
                          0.1323631237
                        ],
                        "iteration": 8,
                        "passed_time": 9.184018514,
                        "remaining_time": 1.020446502,
                        "test": [
                          0.8064516129,
                          0.4898385294
                        ]
                      },
                      {
                        "parameters": [
                          {
                            "depth": 6,
                            "learning_rate": 0.1577777778,
                            "l2_leaf_reg": 5,
                            "iterations": 300
                          }
                        ],
                        "learn": [
                          0.9838709677,
                          0.1028499279
                        ],
                        "iteration": 9,
                        "passed_time": 10.69759958,
                        "remaining_time": 0,
                        "test": [
                          0.814516129,
                          0.4979766643
                        ]
                      }
                    ],
                    "meta": {
                      "test_sets": [
                        "test"
                      ],
                      "test_metrics": [
                        {
                          "best_value": "Max",
                          "name": "Accuracy"
                        },
                        {
                          "best_value": "Min",
                          "name": "Logloss"
                        }
                      ],
                      "learn_metrics": [
                        {
                          "best_value": "Max",
                          "name": "Accuracy"
                        },
                        {
                          "best_value": "Min",
                          "name": "Logloss"
                        }
                      ],
                      "launch_mode": "Train",
                      "parameters": "parameters",
                      "iteration_count": 10,
                      "learn_sets": [
                        "learn"
                      ],
                      "name": "experiment"
                    }
                  }
                }
              }
            },
            "layout": "IPY_MODEL_1d42ae83f56840fca784aa3ba2929d31"
          }
        }
      }
    }
  },
  "cells": [
    {
      "cell_type": "code",
      "execution_count": 83,
      "metadata": {
        "id": "9SwMRLspyhmT",
        "colab": {
          "base_uri": "https://localhost:8080/"
        },
        "outputId": "a3d8e07f-fb5a-4c71-e5f3-1714118c3687"
      },
      "outputs": [
        {
          "output_type": "stream",
          "name": "stdout",
          "text": [
            "Looking in indexes: https://pypi.org/simple, https://us-python.pkg.dev/colab-wheels/public/simple/\n",
            "Requirement already satisfied: phik in /usr/local/lib/python3.8/dist-packages (0.12.3)\n",
            "Requirement already satisfied: scipy>=1.5.2 in /usr/local/lib/python3.8/dist-packages (from phik) (1.7.3)\n",
            "Requirement already satisfied: matplotlib>=2.2.3 in /usr/local/lib/python3.8/dist-packages (from phik) (3.2.2)\n",
            "Requirement already satisfied: numpy>=1.18.0 in /usr/local/lib/python3.8/dist-packages (from phik) (1.21.6)\n",
            "Requirement already satisfied: joblib>=0.14.1 in /usr/local/lib/python3.8/dist-packages (from phik) (1.2.0)\n",
            "Requirement already satisfied: pandas>=0.25.1 in /usr/local/lib/python3.8/dist-packages (from phik) (1.3.5)\n",
            "Requirement already satisfied: kiwisolver>=1.0.1 in /usr/local/lib/python3.8/dist-packages (from matplotlib>=2.2.3->phik) (1.4.4)\n",
            "Requirement already satisfied: cycler>=0.10 in /usr/local/lib/python3.8/dist-packages (from matplotlib>=2.2.3->phik) (0.11.0)\n",
            "Requirement already satisfied: pyparsing!=2.0.4,!=2.1.2,!=2.1.6,>=2.0.1 in /usr/local/lib/python3.8/dist-packages (from matplotlib>=2.2.3->phik) (3.0.9)\n",
            "Requirement already satisfied: python-dateutil>=2.1 in /usr/local/lib/python3.8/dist-packages (from matplotlib>=2.2.3->phik) (2.8.2)\n",
            "Requirement already satisfied: pytz>=2017.3 in /usr/local/lib/python3.8/dist-packages (from pandas>=0.25.1->phik) (2022.6)\n",
            "Requirement already satisfied: six>=1.5 in /usr/local/lib/python3.8/dist-packages (from python-dateutil>=2.1->matplotlib>=2.2.3->phik) (1.15.0)\n"
          ]
        }
      ],
      "source": [
        "import pandas as pd\n",
        "import numpy as np\n",
        "\n",
        "import matplotlib.pyplot as plt\n",
        "import seaborn as sns\n",
        "\n",
        "from sklearn.preprocessing import OneHotEncoder, StandardScaler\n",
        "from sklearn.model_selection import RandomizedSearchCV, train_test_split\n",
        "from sklearn.neighbors import KNeighborsClassifier\n",
        "from sklearn.linear_model import LogisticRegression\n",
        "\n",
        "from google.colab import drive\n",
        "\n",
        "from sklearn.metrics import f1_score, accuracy_score, roc_auc_score\n",
        "\n",
        "!pip install phik\n",
        "import phik\n",
        "from phik.report import plot_correlation_matrix\n",
        "from phik import report\n"
      ]
    },
    {
      "cell_type": "markdown",
      "source": [
        "# Загрузка и первичный осмотр данных"
      ],
      "metadata": {
        "id": "VyEon32wb86C"
      }
    },
    {
      "cell_type": "code",
      "source": [
        "drive.mount('/content/drive/')"
      ],
      "metadata": {
        "colab": {
          "base_uri": "https://localhost:8080/"
        },
        "id": "BQ942xqCbXBX",
        "outputId": "46dec0ab-20e3-47d0-f7eb-f3a6208774ec"
      },
      "execution_count": 84,
      "outputs": [
        {
          "output_type": "stream",
          "name": "stdout",
          "text": [
            "Drive already mounted at /content/drive/; to attempt to forcibly remount, call drive.mount(\"/content/drive/\", force_remount=True).\n"
          ]
        }
      ]
    },
    {
      "cell_type": "code",
      "source": [
        "df_train = pd.read_csv('/content/drive/MyDrive/1T_sprint_titanic/train.csv')\n"
      ],
      "metadata": {
        "id": "j89ILRXLb2_B"
      },
      "execution_count": 85,
      "outputs": []
    },
    {
      "cell_type": "code",
      "source": [
        "df_train.head()"
      ],
      "metadata": {
        "colab": {
          "base_uri": "https://localhost:8080/",
          "height": 548
        },
        "id": "xsaYoEMQhto8",
        "outputId": "a820d4a7-a0f8-447e-e364-ba1b86e968cc"
      },
      "execution_count": 86,
      "outputs": [
        {
          "output_type": "execute_result",
          "data": {
            "text/plain": [
              "   PassengerId  Survived  Pclass  \\\n",
              "0            1         0       3   \n",
              "1            2         1       1   \n",
              "2            3         1       3   \n",
              "3            4         1       1   \n",
              "4            5         0       3   \n",
              "\n",
              "                                                Name     Sex   Age  SibSp  \\\n",
              "0                            Braund, Mr. Owen Harris    male  22.0      1   \n",
              "1  Cumings, Mrs. John Bradley (Florence Briggs Th...  female  38.0      1   \n",
              "2                             Heikkinen, Miss. Laina  female  26.0      0   \n",
              "3       Futrelle, Mrs. Jacques Heath (Lily May Peel)  female  35.0      1   \n",
              "4                           Allen, Mr. William Henry    male  35.0      0   \n",
              "\n",
              "   Parch            Ticket     Fare Cabin Embarked  \n",
              "0      0         A/5 21171   7.2500   NaN        S  \n",
              "1      0          PC 17599  71.2833   C85        C  \n",
              "2      0  STON/O2. 3101282   7.9250   NaN        S  \n",
              "3      0            113803  53.1000  C123        S  \n",
              "4      0            373450   8.0500   NaN        S  "
            ],
            "text/html": [
              "\n",
              "  <div id=\"df-d9943fd7-292a-4c08-805b-c9fd7681c224\">\n",
              "    <div class=\"colab-df-container\">\n",
              "      <div>\n",
              "<style scoped>\n",
              "    .dataframe tbody tr th:only-of-type {\n",
              "        vertical-align: middle;\n",
              "    }\n",
              "\n",
              "    .dataframe tbody tr th {\n",
              "        vertical-align: top;\n",
              "    }\n",
              "\n",
              "    .dataframe thead th {\n",
              "        text-align: right;\n",
              "    }\n",
              "</style>\n",
              "<table border=\"1\" class=\"dataframe\">\n",
              "  <thead>\n",
              "    <tr style=\"text-align: right;\">\n",
              "      <th></th>\n",
              "      <th>PassengerId</th>\n",
              "      <th>Survived</th>\n",
              "      <th>Pclass</th>\n",
              "      <th>Name</th>\n",
              "      <th>Sex</th>\n",
              "      <th>Age</th>\n",
              "      <th>SibSp</th>\n",
              "      <th>Parch</th>\n",
              "      <th>Ticket</th>\n",
              "      <th>Fare</th>\n",
              "      <th>Cabin</th>\n",
              "      <th>Embarked</th>\n",
              "    </tr>\n",
              "  </thead>\n",
              "  <tbody>\n",
              "    <tr>\n",
              "      <th>0</th>\n",
              "      <td>1</td>\n",
              "      <td>0</td>\n",
              "      <td>3</td>\n",
              "      <td>Braund, Mr. Owen Harris</td>\n",
              "      <td>male</td>\n",
              "      <td>22.0</td>\n",
              "      <td>1</td>\n",
              "      <td>0</td>\n",
              "      <td>A/5 21171</td>\n",
              "      <td>7.2500</td>\n",
              "      <td>NaN</td>\n",
              "      <td>S</td>\n",
              "    </tr>\n",
              "    <tr>\n",
              "      <th>1</th>\n",
              "      <td>2</td>\n",
              "      <td>1</td>\n",
              "      <td>1</td>\n",
              "      <td>Cumings, Mrs. John Bradley (Florence Briggs Th...</td>\n",
              "      <td>female</td>\n",
              "      <td>38.0</td>\n",
              "      <td>1</td>\n",
              "      <td>0</td>\n",
              "      <td>PC 17599</td>\n",
              "      <td>71.2833</td>\n",
              "      <td>C85</td>\n",
              "      <td>C</td>\n",
              "    </tr>\n",
              "    <tr>\n",
              "      <th>2</th>\n",
              "      <td>3</td>\n",
              "      <td>1</td>\n",
              "      <td>3</td>\n",
              "      <td>Heikkinen, Miss. Laina</td>\n",
              "      <td>female</td>\n",
              "      <td>26.0</td>\n",
              "      <td>0</td>\n",
              "      <td>0</td>\n",
              "      <td>STON/O2. 3101282</td>\n",
              "      <td>7.9250</td>\n",
              "      <td>NaN</td>\n",
              "      <td>S</td>\n",
              "    </tr>\n",
              "    <tr>\n",
              "      <th>3</th>\n",
              "      <td>4</td>\n",
              "      <td>1</td>\n",
              "      <td>1</td>\n",
              "      <td>Futrelle, Mrs. Jacques Heath (Lily May Peel)</td>\n",
              "      <td>female</td>\n",
              "      <td>35.0</td>\n",
              "      <td>1</td>\n",
              "      <td>0</td>\n",
              "      <td>113803</td>\n",
              "      <td>53.1000</td>\n",
              "      <td>C123</td>\n",
              "      <td>S</td>\n",
              "    </tr>\n",
              "    <tr>\n",
              "      <th>4</th>\n",
              "      <td>5</td>\n",
              "      <td>0</td>\n",
              "      <td>3</td>\n",
              "      <td>Allen, Mr. William Henry</td>\n",
              "      <td>male</td>\n",
              "      <td>35.0</td>\n",
              "      <td>0</td>\n",
              "      <td>0</td>\n",
              "      <td>373450</td>\n",
              "      <td>8.0500</td>\n",
              "      <td>NaN</td>\n",
              "      <td>S</td>\n",
              "    </tr>\n",
              "  </tbody>\n",
              "</table>\n",
              "</div>\n",
              "      <button class=\"colab-df-convert\" onclick=\"convertToInteractive('df-d9943fd7-292a-4c08-805b-c9fd7681c224')\"\n",
              "              title=\"Convert this dataframe to an interactive table.\"\n",
              "              style=\"display:none;\">\n",
              "        \n",
              "  <svg xmlns=\"http://www.w3.org/2000/svg\" height=\"24px\"viewBox=\"0 0 24 24\"\n",
              "       width=\"24px\">\n",
              "    <path d=\"M0 0h24v24H0V0z\" fill=\"none\"/>\n",
              "    <path d=\"M18.56 5.44l.94 2.06.94-2.06 2.06-.94-2.06-.94-.94-2.06-.94 2.06-2.06.94zm-11 1L8.5 8.5l.94-2.06 2.06-.94-2.06-.94L8.5 2.5l-.94 2.06-2.06.94zm10 10l.94 2.06.94-2.06 2.06-.94-2.06-.94-.94-2.06-.94 2.06-2.06.94z\"/><path d=\"M17.41 7.96l-1.37-1.37c-.4-.4-.92-.59-1.43-.59-.52 0-1.04.2-1.43.59L10.3 9.45l-7.72 7.72c-.78.78-.78 2.05 0 2.83L4 21.41c.39.39.9.59 1.41.59.51 0 1.02-.2 1.41-.59l7.78-7.78 2.81-2.81c.8-.78.8-2.07 0-2.86zM5.41 20L4 18.59l7.72-7.72 1.47 1.35L5.41 20z\"/>\n",
              "  </svg>\n",
              "      </button>\n",
              "      \n",
              "  <style>\n",
              "    .colab-df-container {\n",
              "      display:flex;\n",
              "      flex-wrap:wrap;\n",
              "      gap: 12px;\n",
              "    }\n",
              "\n",
              "    .colab-df-convert {\n",
              "      background-color: #E8F0FE;\n",
              "      border: none;\n",
              "      border-radius: 50%;\n",
              "      cursor: pointer;\n",
              "      display: none;\n",
              "      fill: #1967D2;\n",
              "      height: 32px;\n",
              "      padding: 0 0 0 0;\n",
              "      width: 32px;\n",
              "    }\n",
              "\n",
              "    .colab-df-convert:hover {\n",
              "      background-color: #E2EBFA;\n",
              "      box-shadow: 0px 1px 2px rgba(60, 64, 67, 0.3), 0px 1px 3px 1px rgba(60, 64, 67, 0.15);\n",
              "      fill: #174EA6;\n",
              "    }\n",
              "\n",
              "    [theme=dark] .colab-df-convert {\n",
              "      background-color: #3B4455;\n",
              "      fill: #D2E3FC;\n",
              "    }\n",
              "\n",
              "    [theme=dark] .colab-df-convert:hover {\n",
              "      background-color: #434B5C;\n",
              "      box-shadow: 0px 1px 3px 1px rgba(0, 0, 0, 0.15);\n",
              "      filter: drop-shadow(0px 1px 2px rgba(0, 0, 0, 0.3));\n",
              "      fill: #FFFFFF;\n",
              "    }\n",
              "  </style>\n",
              "\n",
              "      <script>\n",
              "        const buttonEl =\n",
              "          document.querySelector('#df-d9943fd7-292a-4c08-805b-c9fd7681c224 button.colab-df-convert');\n",
              "        buttonEl.style.display =\n",
              "          google.colab.kernel.accessAllowed ? 'block' : 'none';\n",
              "\n",
              "        async function convertToInteractive(key) {\n",
              "          const element = document.querySelector('#df-d9943fd7-292a-4c08-805b-c9fd7681c224');\n",
              "          const dataTable =\n",
              "            await google.colab.kernel.invokeFunction('convertToInteractive',\n",
              "                                                     [key], {});\n",
              "          if (!dataTable) return;\n",
              "\n",
              "          const docLinkHtml = 'Like what you see? Visit the ' +\n",
              "            '<a target=\"_blank\" href=https://colab.research.google.com/notebooks/data_table.ipynb>data table notebook</a>'\n",
              "            + ' to learn more about interactive tables.';\n",
              "          element.innerHTML = '';\n",
              "          dataTable['output_type'] = 'display_data';\n",
              "          await google.colab.output.renderOutput(dataTable, element);\n",
              "          const docLink = document.createElement('div');\n",
              "          docLink.innerHTML = docLinkHtml;\n",
              "          element.appendChild(docLink);\n",
              "        }\n",
              "      </script>\n",
              "    </div>\n",
              "  </div>\n",
              "  "
            ]
          },
          "metadata": {},
          "execution_count": 86
        }
      ]
    },
    {
      "cell_type": "code",
      "source": [
        "df_train.info()"
      ],
      "metadata": {
        "colab": {
          "base_uri": "https://localhost:8080/"
        },
        "id": "Hfs1cDEQhHOc",
        "outputId": "62062497-5a6f-4c56-c3d8-8e0e7c476ace"
      },
      "execution_count": 87,
      "outputs": [
        {
          "output_type": "stream",
          "name": "stdout",
          "text": [
            "<class 'pandas.core.frame.DataFrame'>\n",
            "RangeIndex: 891 entries, 0 to 890\n",
            "Data columns (total 12 columns):\n",
            " #   Column       Non-Null Count  Dtype  \n",
            "---  ------       --------------  -----  \n",
            " 0   PassengerId  891 non-null    int64  \n",
            " 1   Survived     891 non-null    int64  \n",
            " 2   Pclass       891 non-null    int64  \n",
            " 3   Name         891 non-null    object \n",
            " 4   Sex          891 non-null    object \n",
            " 5   Age          714 non-null    float64\n",
            " 6   SibSp        891 non-null    int64  \n",
            " 7   Parch        891 non-null    int64  \n",
            " 8   Ticket       891 non-null    object \n",
            " 9   Fare         891 non-null    float64\n",
            " 10  Cabin        204 non-null    object \n",
            " 11  Embarked     889 non-null    object \n",
            "dtypes: float64(2), int64(5), object(5)\n",
            "memory usage: 83.7+ KB\n"
          ]
        }
      ]
    },
    {
      "cell_type": "code",
      "source": [
        "df_train.isna().mean()"
      ],
      "metadata": {
        "colab": {
          "base_uri": "https://localhost:8080/"
        },
        "id": "RB4ZUj3vcRWV",
        "outputId": "8cc1892b-f726-4f91-cd3f-d5553129be8b"
      },
      "execution_count": 88,
      "outputs": [
        {
          "output_type": "execute_result",
          "data": {
            "text/plain": [
              "PassengerId    0.000000\n",
              "Survived       0.000000\n",
              "Pclass         0.000000\n",
              "Name           0.000000\n",
              "Sex            0.000000\n",
              "Age            0.198653\n",
              "SibSp          0.000000\n",
              "Parch          0.000000\n",
              "Ticket         0.000000\n",
              "Fare           0.000000\n",
              "Cabin          0.771044\n",
              "Embarked       0.002245\n",
              "dtype: float64"
            ]
          },
          "metadata": {},
          "execution_count": 88
        }
      ]
    },
    {
      "cell_type": "markdown",
      "source": [
        "# Предобработка на скорую руку"
      ],
      "metadata": {
        "id": "hG5h1Df_cRt3"
      }
    },
    {
      "cell_type": "markdown",
      "source": [
        "Видим, что в столбце Cabin очень много пропусков, больше 77 %. Удалим этот столбец. Также удалим столбцы PassengerId, Name, Ticket тк они не несут смысловой нагрузки. Остальные столбцы пока оставим. "
      ],
      "metadata": {
        "id": "GIyhC4mRcU7J"
      }
    },
    {
      "cell_type": "markdown",
      "source": [
        "## Удаление избыточных признаков"
      ],
      "metadata": {
        "id": "aKKqAVQvAoJI"
      }
    },
    {
      "cell_type": "code",
      "source": [
        "df_train = df_train.drop(columns=['PassengerId','Name', 'Ticket', 'Cabin'])\n",
        "df_train.columns"
      ],
      "metadata": {
        "colab": {
          "base_uri": "https://localhost:8080/"
        },
        "id": "ZRH6ghy2b8Yf",
        "outputId": "494428a6-c3e0-4e45-9402-8b99fc6821ab"
      },
      "execution_count": 89,
      "outputs": [
        {
          "output_type": "execute_result",
          "data": {
            "text/plain": [
              "Index(['Survived', 'Pclass', 'Sex', 'Age', 'SibSp', 'Parch', 'Fare',\n",
              "       'Embarked'],\n",
              "      dtype='object')"
            ]
          },
          "metadata": {},
          "execution_count": 89
        }
      ]
    },
    {
      "cell_type": "code",
      "source": [
        "df_train = df_train[df_train['Embarked'].isna() == False]\n",
        "df_train.info()"
      ],
      "metadata": {
        "colab": {
          "base_uri": "https://localhost:8080/"
        },
        "id": "T8ZOFzlHd28H",
        "outputId": "9175d102-14f1-462c-fefe-bc4c77fb3bb7"
      },
      "execution_count": 90,
      "outputs": [
        {
          "output_type": "stream",
          "name": "stdout",
          "text": [
            "<class 'pandas.core.frame.DataFrame'>\n",
            "Int64Index: 889 entries, 0 to 890\n",
            "Data columns (total 8 columns):\n",
            " #   Column    Non-Null Count  Dtype  \n",
            "---  ------    --------------  -----  \n",
            " 0   Survived  889 non-null    int64  \n",
            " 1   Pclass    889 non-null    int64  \n",
            " 2   Sex       889 non-null    object \n",
            " 3   Age       712 non-null    float64\n",
            " 4   SibSp     889 non-null    int64  \n",
            " 5   Parch     889 non-null    int64  \n",
            " 6   Fare      889 non-null    float64\n",
            " 7   Embarked  889 non-null    object \n",
            "dtypes: float64(2), int64(4), object(2)\n",
            "memory usage: 62.5+ KB\n"
          ]
        }
      ]
    },
    {
      "cell_type": "markdown",
      "source": [
        "Остались пропуски в столбце возраста. И пропусков довольно много. Попробуем что-то с этим сделать. "
      ],
      "metadata": {
        "id": "m1aAvaTM67ti"
      }
    },
    {
      "cell_type": "markdown",
      "source": [
        "## Корреляция"
      ],
      "metadata": {
        "id": "_xxrQ2o7Asi6"
      }
    },
    {
      "cell_type": "markdown",
      "source": [
        "Посмотрим матрицу корреляции между признаками."
      ],
      "metadata": {
        "id": "VZRnzrby0aMe"
      }
    },
    {
      "cell_type": "code",
      "source": [
        "corr = df_train.corr() \n",
        "sns.heatmap(corr,\n",
        "            xticklabels=corr.columns.values,\n",
        "            yticklabels=corr.columns.values) \n",
        "plt.show()"
      ],
      "metadata": {
        "colab": {
          "base_uri": "https://localhost:8080/",
          "height": 269
        },
        "id": "FcOH5tEI0Ubn",
        "outputId": "ab2bea5b-84a0-44ca-98f6-44aee7667800"
      },
      "execution_count": 91,
      "outputs": [
        {
          "output_type": "display_data",
          "data": {
            "text/plain": [
              "<Figure size 432x288 with 2 Axes>"
            ],
            "image/png": "[encoded data removed]"
          },
          "metadata": {
            "needs_background": "light"
          }
        }
      ]
    },
    {
      "cell_type": "markdown",
      "source": [
        "Зависимости  между данными не найдено. \n",
        "\n",
        "Посмотрим распределение возрастов. "
      ],
      "metadata": {
        "id": "-yO0M_FZ0r80"
      }
    },
    {
      "cell_type": "markdown",
      "source": [
        "## Пропуски в AGE"
      ],
      "metadata": {
        "id": "uEIT1_SGAwdw"
      }
    },
    {
      "cell_type": "code",
      "source": [
        "plt.hist(df_train['Age'])\n",
        "plt.show()"
      ],
      "metadata": {
        "colab": {
          "base_uri": "https://localhost:8080/",
          "height": 265
        },
        "id": "ykH0N3kI0vz8",
        "outputId": "5ee0cddf-ff53-475d-dc88-4a5fe4b94d4c"
      },
      "execution_count": 92,
      "outputs": [
        {
          "output_type": "display_data",
          "data": {
            "text/plain": [
              "<Figure size 432x288 with 1 Axes>"
            ],
            "image/png": "[encoded data removed]"
          },
          "metadata": {
            "needs_background": "light"
          }
        }
      ]
    },
    {
      "cell_type": "markdown",
      "source": [
        "Заменим пропуски в столбце Age на 100."
      ],
      "metadata": {
        "id": "WrgLpOzz8K-U"
      }
    },
    {
      "cell_type": "code",
      "source": [
        "df_train[\"Age\"] = df_train[\"Age\"].fillna(100)"
      ],
      "metadata": {
        "id": "U6al-P2C29Ng"
      },
      "execution_count": 93,
      "outputs": []
    },
    {
      "cell_type": "code",
      "source": [
        "df_train[\"Age\"] = df_train['Age'].transform(lambda x: x.round()).astype('int16')"
      ],
      "metadata": {
        "id": "0AzhrgGg03QN"
      },
      "execution_count": 94,
      "outputs": []
    },
    {
      "cell_type": "code",
      "source": [
        "plt.hist(df_train['Age'])\n",
        "plt.show()"
      ],
      "metadata": {
        "colab": {
          "base_uri": "https://localhost:8080/",
          "height": 265
        },
        "id": "anBU0KPb4kIl",
        "outputId": "f11bfdde-22d7-42a8-e8af-d6d3f9765aec"
      },
      "execution_count": 95,
      "outputs": [
        {
          "output_type": "display_data",
          "data": {
            "text/plain": [
              "<Figure size 432x288 with 1 Axes>"
            ],
            "image/png": "[encoded data removed]"
          },
          "metadata": {
            "needs_background": "light"
          }
        }
      ]
    },
    {
      "cell_type": "code",
      "source": [
        "'''df_train[\"M_Age\"] = np.where(\n",
        "     df_train[\"Age\"].between(0, 20, inclusive=False),\n",
        "    10,\n",
        "    np.where(\n",
        "     df_train[\"Age\"].between(20, 30, inclusive=False),\n",
        "    25,\n",
        "    np.where(\n",
        "     df_train[\"Age\"].between(30, 40, inclusive=False),\n",
        "    35,\n",
        "     np.where(\n",
        "        df_train[\"Age\"].between(40, 50, inclusive=False), \n",
        "    45, \n",
        "    np.where(\n",
        "        df_train[\"Age\"].between(50, 60, inclusive=False), \n",
        "    55, \n",
        "    np.where(\n",
        "        df_train[\"Age\"].between(60, 70, inclusive=False), \n",
        "    65, \n",
        "    np.where(\n",
        "        df_train[\"Age\"].between(70, 80, inclusive=False), \n",
        "    75, 80\n",
        "\n",
        "     ) ) ) ) ) )\n",
        ") '''"
      ],
      "metadata": {
        "colab": {
          "base_uri": "https://localhost:8080/",
          "height": 145
        },
        "id": "T7DpEbtS9Den",
        "outputId": "96234fed-2696-4dbe-bbd1-b6eb602a519c"
      },
      "execution_count": 96,
      "outputs": [
        {
          "output_type": "execute_result",
          "data": {
            "text/plain": [
              "'df_train[\"M_Age\"] = np.where(\\n     df_train[\"Age\"].between(0, 20, inclusive=False),\\n    10,\\n    np.where(\\n     df_train[\"Age\"].between(20, 30, inclusive=False),\\n    25,\\n    np.where(\\n     df_train[\"Age\"].between(30, 40, inclusive=False),\\n    35,\\n     np.where(\\n        df_train[\"Age\"].between(40, 50, inclusive=False), \\n    45, \\n    np.where(\\n        df_train[\"Age\"].between(50, 60, inclusive=False), \\n    55, \\n    np.where(\\n        df_train[\"Age\"].between(60, 70, inclusive=False), \\n    65, \\n    np.where(\\n        df_train[\"Age\"].between(70, 80, inclusive=False), \\n    75, 80\\n\\n     ) ) ) ) ) )\\n) '"
            ],
            "application/vnd.google.colaboratory.intrinsic+json": {
              "type": "string"
            }
          },
          "metadata": {},
          "execution_count": 96
        }
      ]
    },
    {
      "cell_type": "code",
      "source": [
        "df_train = df_train[df_train['Age'].isna() == False]\n",
        "df_train.info()"
      ],
      "metadata": {
        "colab": {
          "base_uri": "https://localhost:8080/"
        },
        "id": "floFRiU5gRV2",
        "outputId": "8f9ad97e-2d52-46da-8388-040c4b9f014f"
      },
      "execution_count": 97,
      "outputs": [
        {
          "output_type": "stream",
          "name": "stdout",
          "text": [
            "<class 'pandas.core.frame.DataFrame'>\n",
            "Int64Index: 889 entries, 0 to 890\n",
            "Data columns (total 8 columns):\n",
            " #   Column    Non-Null Count  Dtype  \n",
            "---  ------    --------------  -----  \n",
            " 0   Survived  889 non-null    int64  \n",
            " 1   Pclass    889 non-null    int64  \n",
            " 2   Sex       889 non-null    object \n",
            " 3   Age       889 non-null    int16  \n",
            " 4   SibSp     889 non-null    int64  \n",
            " 5   Parch     889 non-null    int64  \n",
            " 6   Fare      889 non-null    float64\n",
            " 7   Embarked  889 non-null    object \n",
            "dtypes: float64(1), int16(1), int64(4), object(2)\n",
            "memory usage: 57.3+ KB\n"
          ]
        }
      ]
    },
    {
      "cell_type": "markdown",
      "source": [
        "## Ящики с усами по числовым признакам"
      ],
      "metadata": {
        "id": "ZFU6iCuPBOft"
      }
    },
    {
      "cell_type": "markdown",
      "source": [
        "Построим ящики с усами для количественных признаков"
      ],
      "metadata": {
        "id": "vIJo7P881ev9"
      }
    },
    {
      "cell_type": "code",
      "source": [
        "fig, (ax1, ax2, ax3, ax4, ax5, ax6) = plt.subplots(1, 6, figsize=(15,10)) #, sharey=True)\n",
        "sns.boxplot(data=df_train['Survived'],  ax=ax1) \n",
        "sns.boxplot(data=df_train['SibSp'], ax=ax2) \n",
        "sns.boxplot(data=df_train['Parch'], ax=ax3) \n",
        "sns.boxplot(data=df_train['Pclass'], ax=ax4)  \n",
        "sns.boxplot(data=df_train['Age'], ax=ax5) \n",
        "sns.boxplot(data=df_train['Fare'], ax=ax6) \n",
        "\n",
        "\n",
        "ax1.set_xlabel('Survived'), ax1.set_ylabel('')\n",
        "ax2.set_xlabel('SibSp'), ax2.set_ylabel('')\n",
        "ax3.set_xlabel('Parch'), ax3.set_ylabel('')\n",
        "ax4.set_xlabel('Pclass'), ax4.set_ylabel('')\n",
        "ax5.set_xlabel('Age'), ax5.set_ylabel('')\n",
        "ax6.set_xlabel('Fare'), ax6.set_ylabel('')\n",
        "\n",
        "plt.suptitle('Ящики с усами числовых признаков НЕ МАСШТАБИРОВАННЫЙ')\n",
        "plt.show()"
      ],
      "metadata": {
        "id": "ERA9jCaqe5ka",
        "colab": {
          "base_uri": "https://localhost:8080/",
          "height": 594
        },
        "outputId": "f977cf6c-e2c0-42b8-d6bb-65865725e4fc"
      },
      "execution_count": 98,
      "outputs": [
        {
          "output_type": "display_data",
          "data": {
            "text/plain": [
              "<Figure size 1080x720 with 6 Axes>"
            ],
            "image/png": "[encoded data removed]"
          },
          "metadata": {
            "needs_background": "light"
          }
        }
      ]
    },
    {
      "cell_type": "code",
      "source": [
        "col_cols = set(df_train.columns) - set(['Sex', 'Embarked'])\n",
        "cat_cols = set(df_train.columns) - set(col_cols)"
      ],
      "metadata": {
        "id": "ebtlBkSQ5tYQ"
      },
      "execution_count": 99,
      "outputs": []
    },
    {
      "cell_type": "markdown",
      "source": [
        "Посмотрим на выбросы. Насколько они адекватны. "
      ],
      "metadata": {
        "id": "b7p4iJ9D3Mqn"
      }
    },
    {
      "cell_type": "markdown",
      "source": [
        "SibSp — это число братьев, сестер или супругов на борту у человека."
      ],
      "metadata": {
        "id": "MExPgSjx3T1D"
      }
    },
    {
      "cell_type": "code",
      "source": [
        "df_train['SibSp'].value_counts()"
      ],
      "metadata": {
        "colab": {
          "base_uri": "https://localhost:8080/"
        },
        "id": "mfrGrsYR2szu",
        "outputId": "9c8ae429-1c5c-4480-8de1-d1b5db5d4d29"
      },
      "execution_count": 100,
      "outputs": [
        {
          "output_type": "execute_result",
          "data": {
            "text/plain": [
              "0    606\n",
              "1    209\n",
              "2     28\n",
              "4     18\n",
              "3     16\n",
              "8      7\n",
              "5      5\n",
              "Name: SibSp, dtype: int64"
            ]
          },
          "metadata": {},
          "execution_count": 100
        }
      ]
    },
    {
      "cell_type": "markdown",
      "source": [
        "Хорошо, цифры вполне реальны. Оставим как есть. "
      ],
      "metadata": {
        "id": "yDTFT_Ve3Vos"
      }
    },
    {
      "cell_type": "markdown",
      "source": [
        "Parch - это количество родителей / детей на борту."
      ],
      "metadata": {
        "id": "-QMUV5wg34vb"
      }
    },
    {
      "cell_type": "code",
      "source": [
        "df_train['Parch'].value_counts()"
      ],
      "metadata": {
        "colab": {
          "base_uri": "https://localhost:8080/"
        },
        "id": "Shj5u2Is3eG4",
        "outputId": "85e8c4a5-240f-4eb6-ad7c-035bbf469350"
      },
      "execution_count": 101,
      "outputs": [
        {
          "output_type": "execute_result",
          "data": {
            "text/plain": [
              "0    676\n",
              "1    118\n",
              "2     80\n",
              "5      5\n",
              "3      5\n",
              "4      4\n",
              "6      1\n",
              "Name: Parch, dtype: int64"
            ]
          },
          "metadata": {},
          "execution_count": 101
        }
      ]
    },
    {
      "cell_type": "markdown",
      "source": [
        "Ок, тоже оставим как есть.\n",
        "\n",
        "Посмотрим на плату за проезд."
      ],
      "metadata": {
        "id": "exd6o0nr38xj"
      }
    },
    {
      "cell_type": "code",
      "source": [
        "df_train[df_train['Fare'] > 200]"
      ],
      "metadata": {
        "colab": {
          "base_uri": "https://localhost:8080/",
          "height": 676
        },
        "id": "H78ANiII4GDT",
        "outputId": "52dbf67b-1d50-4154-ea2a-0a814b4816a5"
      },
      "execution_count": 102,
      "outputs": [
        {
          "output_type": "execute_result",
          "data": {
            "text/plain": [
              "     Survived  Pclass     Sex  Age  SibSp  Parch      Fare Embarked\n",
              "27          0       1    male   19      3      2  263.0000        S\n",
              "88          1       1  female   23      3      2  263.0000        S\n",
              "118         0       1    male   24      0      1  247.5208        C\n",
              "258         1       1  female   35      0      0  512.3292        C\n",
              "299         1       1  female   50      0      1  247.5208        C\n",
              "311         1       1  female   18      2      2  262.3750        C\n",
              "341         1       1  female   24      3      2  263.0000        S\n",
              "377         0       1    male   27      0      2  211.5000        C\n",
              "380         1       1  female   42      0      0  227.5250        C\n",
              "438         0       1    male   64      1      4  263.0000        S\n",
              "527         0       1    male  100      0      0  221.7792        S\n",
              "557         0       1    male  100      0      0  227.5250        C\n",
              "679         1       1    male   36      0      1  512.3292        C\n",
              "689         1       1  female   15      0      1  211.3375        S\n",
              "700         1       1  female   18      1      0  227.5250        C\n",
              "716         1       1  female   38      0      0  227.5250        C\n",
              "730         1       1  female   29      0      0  211.3375        S\n",
              "737         1       1    male   35      0      0  512.3292        C\n",
              "742         1       1  female   21      2      2  262.3750        C\n",
              "779         1       1  female   43      0      1  211.3375        S"
            ],
            "text/html": [
              "\n",
              "  <div id=\"df-c62af7ab-add9-484a-ab5e-fe683cc93c3e\">\n",
              "    <div class=\"colab-df-container\">\n",
              "      <div>\n",
              "<style scoped>\n",
              "    .dataframe tbody tr th:only-of-type {\n",
              "        vertical-align: middle;\n",
              "    }\n",
              "\n",
              "    .dataframe tbody tr th {\n",
              "        vertical-align: top;\n",
              "    }\n",
              "\n",
              "    .dataframe thead th {\n",
              "        text-align: right;\n",
              "    }\n",
              "</style>\n",
              "<table border=\"1\" class=\"dataframe\">\n",
              "  <thead>\n",
              "    <tr style=\"text-align: right;\">\n",
              "      <th></th>\n",
              "      <th>Survived</th>\n",
              "      <th>Pclass</th>\n",
              "      <th>Sex</th>\n",
              "      <th>Age</th>\n",
              "      <th>SibSp</th>\n",
              "      <th>Parch</th>\n",
              "      <th>Fare</th>\n",
              "      <th>Embarked</th>\n",
              "    </tr>\n",
              "  </thead>\n",
              "  <tbody>\n",
              "    <tr>\n",
              "      <th>27</th>\n",
              "      <td>0</td>\n",
              "      <td>1</td>\n",
              "      <td>male</td>\n",
              "      <td>19</td>\n",
              "      <td>3</td>\n",
              "      <td>2</td>\n",
              "      <td>263.0000</td>\n",
              "      <td>S</td>\n",
              "    </tr>\n",
              "    <tr>\n",
              "      <th>88</th>\n",
              "      <td>1</td>\n",
              "      <td>1</td>\n",
              "      <td>female</td>\n",
              "      <td>23</td>\n",
              "      <td>3</td>\n",
              "      <td>2</td>\n",
              "      <td>263.0000</td>\n",
              "      <td>S</td>\n",
              "    </tr>\n",
              "    <tr>\n",
              "      <th>118</th>\n",
              "      <td>0</td>\n",
              "      <td>1</td>\n",
              "      <td>male</td>\n",
              "      <td>24</td>\n",
              "      <td>0</td>\n",
              "      <td>1</td>\n",
              "      <td>247.5208</td>\n",
              "      <td>C</td>\n",
              "    </tr>\n",
              "    <tr>\n",
              "      <th>258</th>\n",
              "      <td>1</td>\n",
              "      <td>1</td>\n",
              "      <td>female</td>\n",
              "      <td>35</td>\n",
              "      <td>0</td>\n",
              "      <td>0</td>\n",
              "      <td>512.3292</td>\n",
              "      <td>C</td>\n",
              "    </tr>\n",
              "    <tr>\n",
              "      <th>299</th>\n",
              "      <td>1</td>\n",
              "      <td>1</td>\n",
              "      <td>female</td>\n",
              "      <td>50</td>\n",
              "      <td>0</td>\n",
              "      <td>1</td>\n",
              "      <td>247.5208</td>\n",
              "      <td>C</td>\n",
              "    </tr>\n",
              "    <tr>\n",
              "      <th>311</th>\n",
              "      <td>1</td>\n",
              "      <td>1</td>\n",
              "      <td>female</td>\n",
              "      <td>18</td>\n",
              "      <td>2</td>\n",
              "      <td>2</td>\n",
              "      <td>262.3750</td>\n",
              "      <td>C</td>\n",
              "    </tr>\n",
              "    <tr>\n",
              "      <th>341</th>\n",
              "      <td>1</td>\n",
              "      <td>1</td>\n",
              "      <td>female</td>\n",
              "      <td>24</td>\n",
              "      <td>3</td>\n",
              "      <td>2</td>\n",
              "      <td>263.0000</td>\n",
              "      <td>S</td>\n",
              "    </tr>\n",
              "    <tr>\n",
              "      <th>377</th>\n",
              "      <td>0</td>\n",
              "      <td>1</td>\n",
              "      <td>male</td>\n",
              "      <td>27</td>\n",
              "      <td>0</td>\n",
              "      <td>2</td>\n",
              "      <td>211.5000</td>\n",
              "      <td>C</td>\n",
              "    </tr>\n",
              "    <tr>\n",
              "      <th>380</th>\n",
              "      <td>1</td>\n",
              "      <td>1</td>\n",
              "      <td>female</td>\n",
              "      <td>42</td>\n",
              "      <td>0</td>\n",
              "      <td>0</td>\n",
              "      <td>227.5250</td>\n",
              "      <td>C</td>\n",
              "    </tr>\n",
              "    <tr>\n",
              "      <th>438</th>\n",
              "      <td>0</td>\n",
              "      <td>1</td>\n",
              "      <td>male</td>\n",
              "      <td>64</td>\n",
              "      <td>1</td>\n",
              "      <td>4</td>\n",
              "      <td>263.0000</td>\n",
              "      <td>S</td>\n",
              "    </tr>\n",
              "    <tr>\n",
              "      <th>527</th>\n",
              "      <td>0</td>\n",
              "      <td>1</td>\n",
              "      <td>male</td>\n",
              "      <td>100</td>\n",
              "      <td>0</td>\n",
              "      <td>0</td>\n",
              "      <td>221.7792</td>\n",
              "      <td>S</td>\n",
              "    </tr>\n",
              "    <tr>\n",
              "      <th>557</th>\n",
              "      <td>0</td>\n",
              "      <td>1</td>\n",
              "      <td>male</td>\n",
              "      <td>100</td>\n",
              "      <td>0</td>\n",
              "      <td>0</td>\n",
              "      <td>227.5250</td>\n",
              "      <td>C</td>\n",
              "    </tr>\n",
              "    <tr>\n",
              "      <th>679</th>\n",
              "      <td>1</td>\n",
              "      <td>1</td>\n",
              "      <td>male</td>\n",
              "      <td>36</td>\n",
              "      <td>0</td>\n",
              "      <td>1</td>\n",
              "      <td>512.3292</td>\n",
              "      <td>C</td>\n",
              "    </tr>\n",
              "    <tr>\n",
              "      <th>689</th>\n",
              "      <td>1</td>\n",
              "      <td>1</td>\n",
              "      <td>female</td>\n",
              "      <td>15</td>\n",
              "      <td>0</td>\n",
              "      <td>1</td>\n",
              "      <td>211.3375</td>\n",
              "      <td>S</td>\n",
              "    </tr>\n",
              "    <tr>\n",
              "      <th>700</th>\n",
              "      <td>1</td>\n",
              "      <td>1</td>\n",
              "      <td>female</td>\n",
              "      <td>18</td>\n",
              "      <td>1</td>\n",
              "      <td>0</td>\n",
              "      <td>227.5250</td>\n",
              "      <td>C</td>\n",
              "    </tr>\n",
              "    <tr>\n",
              "      <th>716</th>\n",
              "      <td>1</td>\n",
              "      <td>1</td>\n",
              "      <td>female</td>\n",
              "      <td>38</td>\n",
              "      <td>0</td>\n",
              "      <td>0</td>\n",
              "      <td>227.5250</td>\n",
              "      <td>C</td>\n",
              "    </tr>\n",
              "    <tr>\n",
              "      <th>730</th>\n",
              "      <td>1</td>\n",
              "      <td>1</td>\n",
              "      <td>female</td>\n",
              "      <td>29</td>\n",
              "      <td>0</td>\n",
              "      <td>0</td>\n",
              "      <td>211.3375</td>\n",
              "      <td>S</td>\n",
              "    </tr>\n",
              "    <tr>\n",
              "      <th>737</th>\n",
              "      <td>1</td>\n",
              "      <td>1</td>\n",
              "      <td>male</td>\n",
              "      <td>35</td>\n",
              "      <td>0</td>\n",
              "      <td>0</td>\n",
              "      <td>512.3292</td>\n",
              "      <td>C</td>\n",
              "    </tr>\n",
              "    <tr>\n",
              "      <th>742</th>\n",
              "      <td>1</td>\n",
              "      <td>1</td>\n",
              "      <td>female</td>\n",
              "      <td>21</td>\n",
              "      <td>2</td>\n",
              "      <td>2</td>\n",
              "      <td>262.3750</td>\n",
              "      <td>C</td>\n",
              "    </tr>\n",
              "    <tr>\n",
              "      <th>779</th>\n",
              "      <td>1</td>\n",
              "      <td>1</td>\n",
              "      <td>female</td>\n",
              "      <td>43</td>\n",
              "      <td>0</td>\n",
              "      <td>1</td>\n",
              "      <td>211.3375</td>\n",
              "      <td>S</td>\n",
              "    </tr>\n",
              "  </tbody>\n",
              "</table>\n",
              "</div>\n",
              "      <button class=\"colab-df-convert\" onclick=\"convertToInteractive('df-c62af7ab-add9-484a-ab5e-fe683cc93c3e')\"\n",
              "              title=\"Convert this dataframe to an interactive table.\"\n",
              "              style=\"display:none;\">\n",
              "        \n",
              "  <svg xmlns=\"http://www.w3.org/2000/svg\" height=\"24px\"viewBox=\"0 0 24 24\"\n",
              "       width=\"24px\">\n",
              "    <path d=\"M0 0h24v24H0V0z\" fill=\"none\"/>\n",
              "    <path d=\"M18.56 5.44l.94 2.06.94-2.06 2.06-.94-2.06-.94-.94-2.06-.94 2.06-2.06.94zm-11 1L8.5 8.5l.94-2.06 2.06-.94-2.06-.94L8.5 2.5l-.94 2.06-2.06.94zm10 10l.94 2.06.94-2.06 2.06-.94-2.06-.94-.94-2.06-.94 2.06-2.06.94z\"/><path d=\"M17.41 7.96l-1.37-1.37c-.4-.4-.92-.59-1.43-.59-.52 0-1.04.2-1.43.59L10.3 9.45l-7.72 7.72c-.78.78-.78 2.05 0 2.83L4 21.41c.39.39.9.59 1.41.59.51 0 1.02-.2 1.41-.59l7.78-7.78 2.81-2.81c.8-.78.8-2.07 0-2.86zM5.41 20L4 18.59l7.72-7.72 1.47 1.35L5.41 20z\"/>\n",
              "  </svg>\n",
              "      </button>\n",
              "      \n",
              "  <style>\n",
              "    .colab-df-container {\n",
              "      display:flex;\n",
              "      flex-wrap:wrap;\n",
              "      gap: 12px;\n",
              "    }\n",
              "\n",
              "    .colab-df-convert {\n",
              "      background-color: #E8F0FE;\n",
              "      border: none;\n",
              "      border-radius: 50%;\n",
              "      cursor: pointer;\n",
              "      display: none;\n",
              "      fill: #1967D2;\n",
              "      height: 32px;\n",
              "      padding: 0 0 0 0;\n",
              "      width: 32px;\n",
              "    }\n",
              "\n",
              "    .colab-df-convert:hover {\n",
              "      background-color: #E2EBFA;\n",
              "      box-shadow: 0px 1px 2px rgba(60, 64, 67, 0.3), 0px 1px 3px 1px rgba(60, 64, 67, 0.15);\n",
              "      fill: #174EA6;\n",
              "    }\n",
              "\n",
              "    [theme=dark] .colab-df-convert {\n",
              "      background-color: #3B4455;\n",
              "      fill: #D2E3FC;\n",
              "    }\n",
              "\n",
              "    [theme=dark] .colab-df-convert:hover {\n",
              "      background-color: #434B5C;\n",
              "      box-shadow: 0px 1px 3px 1px rgba(0, 0, 0, 0.15);\n",
              "      filter: drop-shadow(0px 1px 2px rgba(0, 0, 0, 0.3));\n",
              "      fill: #FFFFFF;\n",
              "    }\n",
              "  </style>\n",
              "\n",
              "      <script>\n",
              "        const buttonEl =\n",
              "          document.querySelector('#df-c62af7ab-add9-484a-ab5e-fe683cc93c3e button.colab-df-convert');\n",
              "        buttonEl.style.display =\n",
              "          google.colab.kernel.accessAllowed ? 'block' : 'none';\n",
              "\n",
              "        async function convertToInteractive(key) {\n",
              "          const element = document.querySelector('#df-c62af7ab-add9-484a-ab5e-fe683cc93c3e');\n",
              "          const dataTable =\n",
              "            await google.colab.kernel.invokeFunction('convertToInteractive',\n",
              "                                                     [key], {});\n",
              "          if (!dataTable) return;\n",
              "\n",
              "          const docLinkHtml = 'Like what you see? Visit the ' +\n",
              "            '<a target=\"_blank\" href=https://colab.research.google.com/notebooks/data_table.ipynb>data table notebook</a>'\n",
              "            + ' to learn more about interactive tables.';\n",
              "          element.innerHTML = '';\n",
              "          dataTable['output_type'] = 'display_data';\n",
              "          await google.colab.output.renderOutput(dataTable, element);\n",
              "          const docLink = document.createElement('div');\n",
              "          docLink.innerHTML = docLinkHtml;\n",
              "          element.appendChild(docLink);\n",
              "        }\n",
              "      </script>\n",
              "    </div>\n",
              "  </div>\n",
              "  "
            ]
          },
          "metadata": {},
          "execution_count": 102
        }
      ]
    },
    {
      "cell_type": "markdown",
      "source": [
        "Допустим, что кто-то платил очень много. Все это пассажиры первого класса, так что пусть останется все как есть. "
      ],
      "metadata": {
        "id": "rLP7yTH-42kb"
      }
    },
    {
      "cell_type": "markdown",
      "source": [
        "## Гистограммы категориальных признаков"
      ],
      "metadata": {
        "id": "h6oALy53BVd_"
      }
    },
    {
      "cell_type": "markdown",
      "source": [
        "Построим гистограммы категориальных признаков."
      ],
      "metadata": {
        "id": "nMOl2i6w6cr2"
      }
    },
    {
      "cell_type": "code",
      "source": [
        "fig, ax = plt.subplots(1, 2, figsize=(15,10))\n",
        "\n",
        "ax = ax.ravel()\n",
        "j = 0\n",
        "for i in cat_cols:\n",
        "    \n",
        "    ax[j].set_title(f'{i}')\n",
        "    ax[j].bar(x = df_train[i].value_counts().index, height = df_train[i].value_counts().values)\n",
        "                  \n",
        "    labels = ax[j].get_xticklabels()\n",
        "    plt.setp(labels, rotation = 25, horizontalalignment = 'right')\n",
        "    plt.xticks(rotation=45) \n",
        "    plt.subplots_adjust(wspace=0.3, hspace=0.3)\n",
        "    j +=1\n",
        "    \n",
        "fig.show()"
      ],
      "metadata": {
        "colab": {
          "base_uri": "https://localhost:8080/",
          "height": 543
        },
        "id": "z_M0b4TN5ity",
        "outputId": "921ea20a-8295-4e83-fdcd-ba4d4eb60c7e"
      },
      "execution_count": 103,
      "outputs": [
        {
          "output_type": "display_data",
          "data": {
            "text/plain": [
              "<Figure size 1080x720 with 2 Axes>"
            ],
            "image/png": "[encoded data removed]"
          },
          "metadata": {
            "needs_background": "light"
          }
        }
      ]
    },
    {
      "cell_type": "markdown",
      "source": [
        "## Удаление дубликатов"
      ],
      "metadata": {
        "id": "2kvPGXNmA-vf"
      }
    },
    {
      "cell_type": "code",
      "source": [
        "df_train= df_train.drop_duplicates()\n",
        "df_train.info()"
      ],
      "metadata": {
        "colab": {
          "base_uri": "https://localhost:8080/"
        },
        "id": "df6glNtyA_Pi",
        "outputId": "a1e7c8af-202d-4b2d-9328-4ba9c94f6d9f"
      },
      "execution_count": 104,
      "outputs": [
        {
          "output_type": "stream",
          "name": "stdout",
          "text": [
            "<class 'pandas.core.frame.DataFrame'>\n",
            "Int64Index: 775 entries, 0 to 890\n",
            "Data columns (total 8 columns):\n",
            " #   Column    Non-Null Count  Dtype  \n",
            "---  ------    --------------  -----  \n",
            " 0   Survived  775 non-null    int64  \n",
            " 1   Pclass    775 non-null    int64  \n",
            " 2   Sex       775 non-null    object \n",
            " 3   Age       775 non-null    int16  \n",
            " 4   SibSp     775 non-null    int64  \n",
            " 5   Parch     775 non-null    int64  \n",
            " 6   Fare      775 non-null    float64\n",
            " 7   Embarked  775 non-null    object \n",
            "dtypes: float64(1), int16(1), int64(4), object(2)\n",
            "memory usage: 50.0+ KB\n"
          ]
        }
      ]
    },
    {
      "cell_type": "markdown",
      "source": [
        "## Распределение целевого признака"
      ],
      "metadata": {
        "id": "UG91MYQ9BD6U"
      }
    },
    {
      "cell_type": "markdown",
      "source": [
        "Посмотрим на распределение целевого признака. "
      ],
      "metadata": {
        "id": "7wf_51I97nMN"
      }
    },
    {
      "cell_type": "code",
      "source": [
        "plt.hist(df_train['Survived'], bins = 3)\n",
        "plt.title('Распределение целевого признака Churn')\n",
        "plt.text(0.13, df_train['Survived'].value_counts()[0]/2, df_train['Survived'].value_counts()[0], color='black', fontweight='bold')\n",
        "plt.text(0.80, df_train['Survived'].value_counts()[1]/2, df_train['Survived'].value_counts()[1], color='black', fontweight='bold')\n",
        "plt.show()"
      ],
      "metadata": {
        "colab": {
          "base_uri": "https://localhost:8080/",
          "height": 281
        },
        "outputId": "a61e4abb-f10e-4885-e5b2-0659dd51d3b7",
        "id": "fO0mNcEF7nMO"
      },
      "execution_count": 105,
      "outputs": [
        {
          "output_type": "display_data",
          "data": {
            "text/plain": [
              "<Figure size 432x288 with 1 Axes>"
            ],
            "image/png": "[encoded data removed]"
          },
          "metadata": {
            "needs_background": "light"
          }
        }
      ]
    },
    {
      "cell_type": "markdown",
      "source": [
        "Видим, что классы более менее сбалансированы."
      ],
      "metadata": {
        "id": "PGuqWlUq_PPP"
      }
    },
    {
      "cell_type": "markdown",
      "source": [
        "## Кодирование категориальных признаков"
      ],
      "metadata": {
        "id": "MErH8pZKBINe"
      }
    },
    {
      "cell_type": "markdown",
      "source": [
        "Произведем кодирование категориальных признаков. Для CatBoost не будем производить кодирование, тк там оно встроено, поэтому создадим копию датасета. "
      ],
      "metadata": {
        "id": "xqQeKwCh-_k6"
      }
    },
    {
      "cell_type": "code",
      "source": [
        "df_catboost = df_train.copy()\n",
        "df_catboost.head()"
      ],
      "metadata": {
        "colab": {
          "base_uri": "https://localhost:8080/",
          "height": 206
        },
        "id": "pkAvAWtb8rdm",
        "outputId": "9a86dabe-fe6e-45bc-9d24-7f2d61198562"
      },
      "execution_count": 106,
      "outputs": [
        {
          "output_type": "execute_result",
          "data": {
            "text/plain": [
              "   Survived  Pclass     Sex  Age  SibSp  Parch     Fare Embarked\n",
              "0         0       3    male   22      1      0   7.2500        S\n",
              "1         1       1  female   38      1      0  71.2833        C\n",
              "2         1       3  female   26      0      0   7.9250        S\n",
              "3         1       1  female   35      1      0  53.1000        S\n",
              "4         0       3    male   35      0      0   8.0500        S"
            ],
            "text/html": [
              "\n",
              "  <div id=\"df-9cd31fa2-ec5c-4065-bd54-eb02758a0c79\">\n",
              "    <div class=\"colab-df-container\">\n",
              "      <div>\n",
              "<style scoped>\n",
              "    .dataframe tbody tr th:only-of-type {\n",
              "        vertical-align: middle;\n",
              "    }\n",
              "\n",
              "    .dataframe tbody tr th {\n",
              "        vertical-align: top;\n",
              "    }\n",
              "\n",
              "    .dataframe thead th {\n",
              "        text-align: right;\n",
              "    }\n",
              "</style>\n",
              "<table border=\"1\" class=\"dataframe\">\n",
              "  <thead>\n",
              "    <tr style=\"text-align: right;\">\n",
              "      <th></th>\n",
              "      <th>Survived</th>\n",
              "      <th>Pclass</th>\n",
              "      <th>Sex</th>\n",
              "      <th>Age</th>\n",
              "      <th>SibSp</th>\n",
              "      <th>Parch</th>\n",
              "      <th>Fare</th>\n",
              "      <th>Embarked</th>\n",
              "    </tr>\n",
              "  </thead>\n",
              "  <tbody>\n",
              "    <tr>\n",
              "      <th>0</th>\n",
              "      <td>0</td>\n",
              "      <td>3</td>\n",
              "      <td>male</td>\n",
              "      <td>22</td>\n",
              "      <td>1</td>\n",
              "      <td>0</td>\n",
              "      <td>7.2500</td>\n",
              "      <td>S</td>\n",
              "    </tr>\n",
              "    <tr>\n",
              "      <th>1</th>\n",
              "      <td>1</td>\n",
              "      <td>1</td>\n",
              "      <td>female</td>\n",
              "      <td>38</td>\n",
              "      <td>1</td>\n",
              "      <td>0</td>\n",
              "      <td>71.2833</td>\n",
              "      <td>C</td>\n",
              "    </tr>\n",
              "    <tr>\n",
              "      <th>2</th>\n",
              "      <td>1</td>\n",
              "      <td>3</td>\n",
              "      <td>female</td>\n",
              "      <td>26</td>\n",
              "      <td>0</td>\n",
              "      <td>0</td>\n",
              "      <td>7.9250</td>\n",
              "      <td>S</td>\n",
              "    </tr>\n",
              "    <tr>\n",
              "      <th>3</th>\n",
              "      <td>1</td>\n",
              "      <td>1</td>\n",
              "      <td>female</td>\n",
              "      <td>35</td>\n",
              "      <td>1</td>\n",
              "      <td>0</td>\n",
              "      <td>53.1000</td>\n",
              "      <td>S</td>\n",
              "    </tr>\n",
              "    <tr>\n",
              "      <th>4</th>\n",
              "      <td>0</td>\n",
              "      <td>3</td>\n",
              "      <td>male</td>\n",
              "      <td>35</td>\n",
              "      <td>0</td>\n",
              "      <td>0</td>\n",
              "      <td>8.0500</td>\n",
              "      <td>S</td>\n",
              "    </tr>\n",
              "  </tbody>\n",
              "</table>\n",
              "</div>\n",
              "      <button class=\"colab-df-convert\" onclick=\"convertToInteractive('df-9cd31fa2-ec5c-4065-bd54-eb02758a0c79')\"\n",
              "              title=\"Convert this dataframe to an interactive table.\"\n",
              "              style=\"display:none;\">\n",
              "        \n",
              "  <svg xmlns=\"http://www.w3.org/2000/svg\" height=\"24px\"viewBox=\"0 0 24 24\"\n",
              "       width=\"24px\">\n",
              "    <path d=\"M0 0h24v24H0V0z\" fill=\"none\"/>\n",
              "    <path d=\"M18.56 5.44l.94 2.06.94-2.06 2.06-.94-2.06-.94-.94-2.06-.94 2.06-2.06.94zm-11 1L8.5 8.5l.94-2.06 2.06-.94-2.06-.94L8.5 2.5l-.94 2.06-2.06.94zm10 10l.94 2.06.94-2.06 2.06-.94-2.06-.94-.94-2.06-.94 2.06-2.06.94z\"/><path d=\"M17.41 7.96l-1.37-1.37c-.4-.4-.92-.59-1.43-.59-.52 0-1.04.2-1.43.59L10.3 9.45l-7.72 7.72c-.78.78-.78 2.05 0 2.83L4 21.41c.39.39.9.59 1.41.59.51 0 1.02-.2 1.41-.59l7.78-7.78 2.81-2.81c.8-.78.8-2.07 0-2.86zM5.41 20L4 18.59l7.72-7.72 1.47 1.35L5.41 20z\"/>\n",
              "  </svg>\n",
              "      </button>\n",
              "      \n",
              "  <style>\n",
              "    .colab-df-container {\n",
              "      display:flex;\n",
              "      flex-wrap:wrap;\n",
              "      gap: 12px;\n",
              "    }\n",
              "\n",
              "    .colab-df-convert {\n",
              "      background-color: #E8F0FE;\n",
              "      border: none;\n",
              "      border-radius: 50%;\n",
              "      cursor: pointer;\n",
              "      display: none;\n",
              "      fill: #1967D2;\n",
              "      height: 32px;\n",
              "      padding: 0 0 0 0;\n",
              "      width: 32px;\n",
              "    }\n",
              "\n",
              "    .colab-df-convert:hover {\n",
              "      background-color: #E2EBFA;\n",
              "      box-shadow: 0px 1px 2px rgba(60, 64, 67, 0.3), 0px 1px 3px 1px rgba(60, 64, 67, 0.15);\n",
              "      fill: #174EA6;\n",
              "    }\n",
              "\n",
              "    [theme=dark] .colab-df-convert {\n",
              "      background-color: #3B4455;\n",
              "      fill: #D2E3FC;\n",
              "    }\n",
              "\n",
              "    [theme=dark] .colab-df-convert:hover {\n",
              "      background-color: #434B5C;\n",
              "      box-shadow: 0px 1px 3px 1px rgba(0, 0, 0, 0.15);\n",
              "      filter: drop-shadow(0px 1px 2px rgba(0, 0, 0, 0.3));\n",
              "      fill: #FFFFFF;\n",
              "    }\n",
              "  </style>\n",
              "\n",
              "      <script>\n",
              "        const buttonEl =\n",
              "          document.querySelector('#df-9cd31fa2-ec5c-4065-bd54-eb02758a0c79 button.colab-df-convert');\n",
              "        buttonEl.style.display =\n",
              "          google.colab.kernel.accessAllowed ? 'block' : 'none';\n",
              "\n",
              "        async function convertToInteractive(key) {\n",
              "          const element = document.querySelector('#df-9cd31fa2-ec5c-4065-bd54-eb02758a0c79');\n",
              "          const dataTable =\n",
              "            await google.colab.kernel.invokeFunction('convertToInteractive',\n",
              "                                                     [key], {});\n",
              "          if (!dataTable) return;\n",
              "\n",
              "          const docLinkHtml = 'Like what you see? Visit the ' +\n",
              "            '<a target=\"_blank\" href=https://colab.research.google.com/notebooks/data_table.ipynb>data table notebook</a>'\n",
              "            + ' to learn more about interactive tables.';\n",
              "          element.innerHTML = '';\n",
              "          dataTable['output_type'] = 'display_data';\n",
              "          await google.colab.output.renderOutput(dataTable, element);\n",
              "          const docLink = document.createElement('div');\n",
              "          docLink.innerHTML = docLinkHtml;\n",
              "          element.appendChild(docLink);\n",
              "        }\n",
              "      </script>\n",
              "    </div>\n",
              "  </div>\n",
              "  "
            ]
          },
          "metadata": {},
          "execution_count": 106
        }
      ]
    },
    {
      "cell_type": "code",
      "source": [
        "df_train = pd.get_dummies(df_train,drop_first=True)\n",
        "df_train.head()"
      ],
      "metadata": {
        "colab": {
          "base_uri": "https://localhost:8080/",
          "height": 206
        },
        "id": "zbJXLchO-jOH",
        "outputId": "fd77934d-5447-4951-f220-95c3a4d2dad4"
      },
      "execution_count": 107,
      "outputs": [
        {
          "output_type": "execute_result",
          "data": {
            "text/plain": [
              "   Survived  Pclass  Age  SibSp  Parch     Fare  Sex_male  Embarked_Q  \\\n",
              "0         0       3   22      1      0   7.2500         1           0   \n",
              "1         1       1   38      1      0  71.2833         0           0   \n",
              "2         1       3   26      0      0   7.9250         0           0   \n",
              "3         1       1   35      1      0  53.1000         0           0   \n",
              "4         0       3   35      0      0   8.0500         1           0   \n",
              "\n",
              "   Embarked_S  \n",
              "0           1  \n",
              "1           0  \n",
              "2           1  \n",
              "3           1  \n",
              "4           1  "
            ],
            "text/html": [
              "\n",
              "  <div id=\"df-fc49f737-33c9-46bb-9d51-5933dea570f6\">\n",
              "    <div class=\"colab-df-container\">\n",
              "      <div>\n",
              "<style scoped>\n",
              "    .dataframe tbody tr th:only-of-type {\n",
              "        vertical-align: middle;\n",
              "    }\n",
              "\n",
              "    .dataframe tbody tr th {\n",
              "        vertical-align: top;\n",
              "    }\n",
              "\n",
              "    .dataframe thead th {\n",
              "        text-align: right;\n",
              "    }\n",
              "</style>\n",
              "<table border=\"1\" class=\"dataframe\">\n",
              "  <thead>\n",
              "    <tr style=\"text-align: right;\">\n",
              "      <th></th>\n",
              "      <th>Survived</th>\n",
              "      <th>Pclass</th>\n",
              "      <th>Age</th>\n",
              "      <th>SibSp</th>\n",
              "      <th>Parch</th>\n",
              "      <th>Fare</th>\n",
              "      <th>Sex_male</th>\n",
              "      <th>Embarked_Q</th>\n",
              "      <th>Embarked_S</th>\n",
              "    </tr>\n",
              "  </thead>\n",
              "  <tbody>\n",
              "    <tr>\n",
              "      <th>0</th>\n",
              "      <td>0</td>\n",
              "      <td>3</td>\n",
              "      <td>22</td>\n",
              "      <td>1</td>\n",
              "      <td>0</td>\n",
              "      <td>7.2500</td>\n",
              "      <td>1</td>\n",
              "      <td>0</td>\n",
              "      <td>1</td>\n",
              "    </tr>\n",
              "    <tr>\n",
              "      <th>1</th>\n",
              "      <td>1</td>\n",
              "      <td>1</td>\n",
              "      <td>38</td>\n",
              "      <td>1</td>\n",
              "      <td>0</td>\n",
              "      <td>71.2833</td>\n",
              "      <td>0</td>\n",
              "      <td>0</td>\n",
              "      <td>0</td>\n",
              "    </tr>\n",
              "    <tr>\n",
              "      <th>2</th>\n",
              "      <td>1</td>\n",
              "      <td>3</td>\n",
              "      <td>26</td>\n",
              "      <td>0</td>\n",
              "      <td>0</td>\n",
              "      <td>7.9250</td>\n",
              "      <td>0</td>\n",
              "      <td>0</td>\n",
              "      <td>1</td>\n",
              "    </tr>\n",
              "    <tr>\n",
              "      <th>3</th>\n",
              "      <td>1</td>\n",
              "      <td>1</td>\n",
              "      <td>35</td>\n",
              "      <td>1</td>\n",
              "      <td>0</td>\n",
              "      <td>53.1000</td>\n",
              "      <td>0</td>\n",
              "      <td>0</td>\n",
              "      <td>1</td>\n",
              "    </tr>\n",
              "    <tr>\n",
              "      <th>4</th>\n",
              "      <td>0</td>\n",
              "      <td>3</td>\n",
              "      <td>35</td>\n",
              "      <td>0</td>\n",
              "      <td>0</td>\n",
              "      <td>8.0500</td>\n",
              "      <td>1</td>\n",
              "      <td>0</td>\n",
              "      <td>1</td>\n",
              "    </tr>\n",
              "  </tbody>\n",
              "</table>\n",
              "</div>\n",
              "      <button class=\"colab-df-convert\" onclick=\"convertToInteractive('df-fc49f737-33c9-46bb-9d51-5933dea570f6')\"\n",
              "              title=\"Convert this dataframe to an interactive table.\"\n",
              "              style=\"display:none;\">\n",
              "        \n",
              "  <svg xmlns=\"http://www.w3.org/2000/svg\" height=\"24px\"viewBox=\"0 0 24 24\"\n",
              "       width=\"24px\">\n",
              "    <path d=\"M0 0h24v24H0V0z\" fill=\"none\"/>\n",
              "    <path d=\"M18.56 5.44l.94 2.06.94-2.06 2.06-.94-2.06-.94-.94-2.06-.94 2.06-2.06.94zm-11 1L8.5 8.5l.94-2.06 2.06-.94-2.06-.94L8.5 2.5l-.94 2.06-2.06.94zm10 10l.94 2.06.94-2.06 2.06-.94-2.06-.94-.94-2.06-.94 2.06-2.06.94z\"/><path d=\"M17.41 7.96l-1.37-1.37c-.4-.4-.92-.59-1.43-.59-.52 0-1.04.2-1.43.59L10.3 9.45l-7.72 7.72c-.78.78-.78 2.05 0 2.83L4 21.41c.39.39.9.59 1.41.59.51 0 1.02-.2 1.41-.59l7.78-7.78 2.81-2.81c.8-.78.8-2.07 0-2.86zM5.41 20L4 18.59l7.72-7.72 1.47 1.35L5.41 20z\"/>\n",
              "  </svg>\n",
              "      </button>\n",
              "      \n",
              "  <style>\n",
              "    .colab-df-container {\n",
              "      display:flex;\n",
              "      flex-wrap:wrap;\n",
              "      gap: 12px;\n",
              "    }\n",
              "\n",
              "    .colab-df-convert {\n",
              "      background-color: #E8F0FE;\n",
              "      border: none;\n",
              "      border-radius: 50%;\n",
              "      cursor: pointer;\n",
              "      display: none;\n",
              "      fill: #1967D2;\n",
              "      height: 32px;\n",
              "      padding: 0 0 0 0;\n",
              "      width: 32px;\n",
              "    }\n",
              "\n",
              "    .colab-df-convert:hover {\n",
              "      background-color: #E2EBFA;\n",
              "      box-shadow: 0px 1px 2px rgba(60, 64, 67, 0.3), 0px 1px 3px 1px rgba(60, 64, 67, 0.15);\n",
              "      fill: #174EA6;\n",
              "    }\n",
              "\n",
              "    [theme=dark] .colab-df-convert {\n",
              "      background-color: #3B4455;\n",
              "      fill: #D2E3FC;\n",
              "    }\n",
              "\n",
              "    [theme=dark] .colab-df-convert:hover {\n",
              "      background-color: #434B5C;\n",
              "      box-shadow: 0px 1px 3px 1px rgba(0, 0, 0, 0.15);\n",
              "      filter: drop-shadow(0px 1px 2px rgba(0, 0, 0, 0.3));\n",
              "      fill: #FFFFFF;\n",
              "    }\n",
              "  </style>\n",
              "\n",
              "      <script>\n",
              "        const buttonEl =\n",
              "          document.querySelector('#df-fc49f737-33c9-46bb-9d51-5933dea570f6 button.colab-df-convert');\n",
              "        buttonEl.style.display =\n",
              "          google.colab.kernel.accessAllowed ? 'block' : 'none';\n",
              "\n",
              "        async function convertToInteractive(key) {\n",
              "          const element = document.querySelector('#df-fc49f737-33c9-46bb-9d51-5933dea570f6');\n",
              "          const dataTable =\n",
              "            await google.colab.kernel.invokeFunction('convertToInteractive',\n",
              "                                                     [key], {});\n",
              "          if (!dataTable) return;\n",
              "\n",
              "          const docLinkHtml = 'Like what you see? Visit the ' +\n",
              "            '<a target=\"_blank\" href=https://colab.research.google.com/notebooks/data_table.ipynb>data table notebook</a>'\n",
              "            + ' to learn more about interactive tables.';\n",
              "          element.innerHTML = '';\n",
              "          dataTable['output_type'] = 'display_data';\n",
              "          await google.colab.output.renderOutput(dataTable, element);\n",
              "          const docLink = document.createElement('div');\n",
              "          docLink.innerHTML = docLinkHtml;\n",
              "          element.appendChild(docLink);\n",
              "        }\n",
              "      </script>\n",
              "    </div>\n",
              "  </div>\n",
              "  "
            ]
          },
          "metadata": {},
          "execution_count": 107
        }
      ]
    },
    {
      "cell_type": "markdown",
      "source": [
        "## Вывод"
      ],
      "metadata": {
        "id": "fTJf2k1dEGAa"
      }
    },
    {
      "cell_type": "markdown",
      "source": [
        "Вывод:\n",
        "Была проведена небольшая преобработка данных, а именно:\n",
        "1. удаление избыточных признаков, \n",
        "2. удаление некоторых строк с пропусками, \n",
        "3. замена пропусков у признака возраст на значение 100, \n",
        "4. изменение типов данных,\n",
        "5. удаление дубликатов,\n",
        "6. кодирование категориальных признаков."
      ],
      "metadata": {
        "id": "e-tJsNCw7pv-"
      }
    },
    {
      "cell_type": "markdown",
      "source": [
        "# Разделение на выборки"
      ],
      "metadata": {
        "id": "T2JfkY-75F8T"
      }
    },
    {
      "cell_type": "markdown",
      "source": [
        "## Разделение на train и valid"
      ],
      "metadata": {
        "id": "Z7AfY47FBcxh"
      }
    },
    {
      "cell_type": "code",
      "source": [
        "X = df_train.drop(columns = ['Survived'])\n",
        "y = df_train['Survived']"
      ],
      "metadata": {
        "id": "K8US_gL_e5nc"
      },
      "execution_count": 108,
      "outputs": []
    },
    {
      "cell_type": "code",
      "source": [
        "X_catboost = df_catboost.drop(columns = ['Survived'])\n",
        "y_catboost = df_catboost['Survived']"
      ],
      "metadata": {
        "id": "YFyx3D5q9EAa"
      },
      "execution_count": 109,
      "outputs": []
    },
    {
      "cell_type": "code",
      "source": [
        "X.info()"
      ],
      "metadata": {
        "colab": {
          "base_uri": "https://localhost:8080/"
        },
        "id": "HJKrCFZ8jYfn",
        "outputId": "ec9ef3ba-c6bb-4173-bf03-e54975d9e84d"
      },
      "execution_count": 110,
      "outputs": [
        {
          "output_type": "stream",
          "name": "stdout",
          "text": [
            "<class 'pandas.core.frame.DataFrame'>\n",
            "Int64Index: 775 entries, 0 to 890\n",
            "Data columns (total 8 columns):\n",
            " #   Column      Non-Null Count  Dtype  \n",
            "---  ------      --------------  -----  \n",
            " 0   Pclass      775 non-null    int64  \n",
            " 1   Age         775 non-null    int16  \n",
            " 2   SibSp       775 non-null    int64  \n",
            " 3   Parch       775 non-null    int64  \n",
            " 4   Fare        775 non-null    float64\n",
            " 5   Sex_male    775 non-null    uint8  \n",
            " 6   Embarked_Q  775 non-null    uint8  \n",
            " 7   Embarked_S  775 non-null    uint8  \n",
            "dtypes: float64(1), int16(1), int64(3), uint8(3)\n",
            "memory usage: 34.1 KB\n"
          ]
        }
      ]
    },
    {
      "cell_type": "code",
      "source": [
        "X_train, X_valid, y_train, y_valid= train_test_split(X, y, test_size=0.20, random_state=111222, stratify=y)"
      ],
      "metadata": {
        "id": "aTzMgWLZzior"
      },
      "execution_count": 111,
      "outputs": []
    },
    {
      "cell_type": "code",
      "source": [
        "X_train_cat, X_valid_cat, y_train_cat, y_valid_cat= train_test_split(X_catboost, y_catboost, test_size=0.20, random_state=111222, stratify=y)"
      ],
      "metadata": {
        "id": "GDdxd9PF9OVn"
      },
      "execution_count": 112,
      "outputs": []
    },
    {
      "cell_type": "code",
      "source": [
        "X_train.shape, X_valid.shape, y_train.shape, y_valid.shape"
      ],
      "metadata": {
        "colab": {
          "base_uri": "https://localhost:8080/"
        },
        "id": "RY1Ex01mj3EB",
        "outputId": "eec8d072-a3fb-4810-d0bd-27837003bac1"
      },
      "execution_count": 113,
      "outputs": [
        {
          "output_type": "execute_result",
          "data": {
            "text/plain": [
              "((620, 8), (155, 8), (620,), (155,))"
            ]
          },
          "metadata": {},
          "execution_count": 113
        }
      ]
    },
    {
      "cell_type": "code",
      "source": [
        "y_train.mean(), y_valid.mean()"
      ],
      "metadata": {
        "colab": {
          "base_uri": "https://localhost:8080/"
        },
        "id": "zOH3zymXAVhF",
        "outputId": "0c8cb5e9-57bf-4fac-ab96-213567a5b209"
      },
      "execution_count": 114,
      "outputs": [
        {
          "output_type": "execute_result",
          "data": {
            "text/plain": [
              "(0.4112903225806452, 0.4129032258064516)"
            ]
          },
          "metadata": {},
          "execution_count": 114
        }
      ]
    },
    {
      "cell_type": "code",
      "source": [
        "X_train.head()"
      ],
      "metadata": {
        "colab": {
          "base_uri": "https://localhost:8080/",
          "height": 206
        },
        "id": "ayK4BT3QkWtr",
        "outputId": "390bbc13-cf39-4517-a63d-bfcf54fefa7d"
      },
      "execution_count": 115,
      "outputs": [
        {
          "output_type": "execute_result",
          "data": {
            "text/plain": [
              "     Pclass  Age  SibSp  Parch      Fare  Sex_male  Embarked_Q  Embarked_S\n",
              "465       3   38      0      0    7.0500         1           0           1\n",
              "195       1   58      0      0  146.5208         0           0           0\n",
              "479       3    2      0      1   12.2875         0           0           1\n",
              "720       2    6      0      1   33.0000         0           0           1\n",
              "651       2   18      0      1   23.0000         0           0           1"
            ],
            "text/html": [
              "\n",
              "  <div id=\"df-250be675-ca0b-4bab-83f7-3dc120836a98\">\n",
              "    <div class=\"colab-df-container\">\n",
              "      <div>\n",
              "<style scoped>\n",
              "    .dataframe tbody tr th:only-of-type {\n",
              "        vertical-align: middle;\n",
              "    }\n",
              "\n",
              "    .dataframe tbody tr th {\n",
              "        vertical-align: top;\n",
              "    }\n",
              "\n",
              "    .dataframe thead th {\n",
              "        text-align: right;\n",
              "    }\n",
              "</style>\n",
              "<table border=\"1\" class=\"dataframe\">\n",
              "  <thead>\n",
              "    <tr style=\"text-align: right;\">\n",
              "      <th></th>\n",
              "      <th>Pclass</th>\n",
              "      <th>Age</th>\n",
              "      <th>SibSp</th>\n",
              "      <th>Parch</th>\n",
              "      <th>Fare</th>\n",
              "      <th>Sex_male</th>\n",
              "      <th>Embarked_Q</th>\n",
              "      <th>Embarked_S</th>\n",
              "    </tr>\n",
              "  </thead>\n",
              "  <tbody>\n",
              "    <tr>\n",
              "      <th>465</th>\n",
              "      <td>3</td>\n",
              "      <td>38</td>\n",
              "      <td>0</td>\n",
              "      <td>0</td>\n",
              "      <td>7.0500</td>\n",
              "      <td>1</td>\n",
              "      <td>0</td>\n",
              "      <td>1</td>\n",
              "    </tr>\n",
              "    <tr>\n",
              "      <th>195</th>\n",
              "      <td>1</td>\n",
              "      <td>58</td>\n",
              "      <td>0</td>\n",
              "      <td>0</td>\n",
              "      <td>146.5208</td>\n",
              "      <td>0</td>\n",
              "      <td>0</td>\n",
              "      <td>0</td>\n",
              "    </tr>\n",
              "    <tr>\n",
              "      <th>479</th>\n",
              "      <td>3</td>\n",
              "      <td>2</td>\n",
              "      <td>0</td>\n",
              "      <td>1</td>\n",
              "      <td>12.2875</td>\n",
              "      <td>0</td>\n",
              "      <td>0</td>\n",
              "      <td>1</td>\n",
              "    </tr>\n",
              "    <tr>\n",
              "      <th>720</th>\n",
              "      <td>2</td>\n",
              "      <td>6</td>\n",
              "      <td>0</td>\n",
              "      <td>1</td>\n",
              "      <td>33.0000</td>\n",
              "      <td>0</td>\n",
              "      <td>0</td>\n",
              "      <td>1</td>\n",
              "    </tr>\n",
              "    <tr>\n",
              "      <th>651</th>\n",
              "      <td>2</td>\n",
              "      <td>18</td>\n",
              "      <td>0</td>\n",
              "      <td>1</td>\n",
              "      <td>23.0000</td>\n",
              "      <td>0</td>\n",
              "      <td>0</td>\n",
              "      <td>1</td>\n",
              "    </tr>\n",
              "  </tbody>\n",
              "</table>\n",
              "</div>\n",
              "      <button class=\"colab-df-convert\" onclick=\"convertToInteractive('df-250be675-ca0b-4bab-83f7-3dc120836a98')\"\n",
              "              title=\"Convert this dataframe to an interactive table.\"\n",
              "              style=\"display:none;\">\n",
              "        \n",
              "  <svg xmlns=\"http://www.w3.org/2000/svg\" height=\"24px\"viewBox=\"0 0 24 24\"\n",
              "       width=\"24px\">\n",
              "    <path d=\"M0 0h24v24H0V0z\" fill=\"none\"/>\n",
              "    <path d=\"M18.56 5.44l.94 2.06.94-2.06 2.06-.94-2.06-.94-.94-2.06-.94 2.06-2.06.94zm-11 1L8.5 8.5l.94-2.06 2.06-.94-2.06-.94L8.5 2.5l-.94 2.06-2.06.94zm10 10l.94 2.06.94-2.06 2.06-.94-2.06-.94-.94-2.06-.94 2.06-2.06.94z\"/><path d=\"M17.41 7.96l-1.37-1.37c-.4-.4-.92-.59-1.43-.59-.52 0-1.04.2-1.43.59L10.3 9.45l-7.72 7.72c-.78.78-.78 2.05 0 2.83L4 21.41c.39.39.9.59 1.41.59.51 0 1.02-.2 1.41-.59l7.78-7.78 2.81-2.81c.8-.78.8-2.07 0-2.86zM5.41 20L4 18.59l7.72-7.72 1.47 1.35L5.41 20z\"/>\n",
              "  </svg>\n",
              "      </button>\n",
              "      \n",
              "  <style>\n",
              "    .colab-df-container {\n",
              "      display:flex;\n",
              "      flex-wrap:wrap;\n",
              "      gap: 12px;\n",
              "    }\n",
              "\n",
              "    .colab-df-convert {\n",
              "      background-color: #E8F0FE;\n",
              "      border: none;\n",
              "      border-radius: 50%;\n",
              "      cursor: pointer;\n",
              "      display: none;\n",
              "      fill: #1967D2;\n",
              "      height: 32px;\n",
              "      padding: 0 0 0 0;\n",
              "      width: 32px;\n",
              "    }\n",
              "\n",
              "    .colab-df-convert:hover {\n",
              "      background-color: #E2EBFA;\n",
              "      box-shadow: 0px 1px 2px rgba(60, 64, 67, 0.3), 0px 1px 3px 1px rgba(60, 64, 67, 0.15);\n",
              "      fill: #174EA6;\n",
              "    }\n",
              "\n",
              "    [theme=dark] .colab-df-convert {\n",
              "      background-color: #3B4455;\n",
              "      fill: #D2E3FC;\n",
              "    }\n",
              "\n",
              "    [theme=dark] .colab-df-convert:hover {\n",
              "      background-color: #434B5C;\n",
              "      box-shadow: 0px 1px 3px 1px rgba(0, 0, 0, 0.15);\n",
              "      filter: drop-shadow(0px 1px 2px rgba(0, 0, 0, 0.3));\n",
              "      fill: #FFFFFF;\n",
              "    }\n",
              "  </style>\n",
              "\n",
              "      <script>\n",
              "        const buttonEl =\n",
              "          document.querySelector('#df-250be675-ca0b-4bab-83f7-3dc120836a98 button.colab-df-convert');\n",
              "        buttonEl.style.display =\n",
              "          google.colab.kernel.accessAllowed ? 'block' : 'none';\n",
              "\n",
              "        async function convertToInteractive(key) {\n",
              "          const element = document.querySelector('#df-250be675-ca0b-4bab-83f7-3dc120836a98');\n",
              "          const dataTable =\n",
              "            await google.colab.kernel.invokeFunction('convertToInteractive',\n",
              "                                                     [key], {});\n",
              "          if (!dataTable) return;\n",
              "\n",
              "          const docLinkHtml = 'Like what you see? Visit the ' +\n",
              "            '<a target=\"_blank\" href=https://colab.research.google.com/notebooks/data_table.ipynb>data table notebook</a>'\n",
              "            + ' to learn more about interactive tables.';\n",
              "          element.innerHTML = '';\n",
              "          dataTable['output_type'] = 'display_data';\n",
              "          await google.colab.output.renderOutput(dataTable, element);\n",
              "          const docLink = document.createElement('div');\n",
              "          docLink.innerHTML = docLinkHtml;\n",
              "          element.appendChild(docLink);\n",
              "        }\n",
              "      </script>\n",
              "    </div>\n",
              "  </div>\n",
              "  "
            ]
          },
          "metadata": {},
          "execution_count": 115
        }
      ]
    },
    {
      "cell_type": "markdown",
      "source": [
        "## Взаимная корреляция с помощью коэффициента Phik"
      ],
      "metadata": {
        "id": "sDkMQELwBgmm"
      }
    },
    {
      "cell_type": "markdown",
      "source": [
        "Посмотрим взаимную корреляцию признаков с помощью коэффициента Phik."
      ],
      "metadata": {
        "id": "ksYgtSBW_8cE"
      }
    },
    {
      "cell_type": "code",
      "execution_count": 116,
      "metadata": {
        "id": "9bc23d8c"
      },
      "outputs": [],
      "source": [
        "interval_cols = ['Age', 'Fare']\n",
        "phik_overview = X_train.phik_matrix(interval_cols=interval_cols)"
      ]
    },
    {
      "cell_type": "code",
      "execution_count": 117,
      "metadata": {
        "id": "450e52fb",
        "outputId": "65bf6a15-8b01-41d0-db28-5d15180cbb6d",
        "colab": {
          "base_uri": "https://localhost:8080/",
          "height": 604
        }
      },
      "outputs": [
        {
          "output_type": "display_data",
          "data": {
            "text/plain": [
              "<Figure size 1440x1008 with 2 Axes>"
            ],
            "image/png": "[encoded data removed]"
          },
          "metadata": {
            "needs_background": "light"
          }
        }
      ],
      "source": [
        "plot_correlation_matrix(phik_overview.values, \n",
        "                        x_labels=phik_overview.columns, \n",
        "                        y_labels=phik_overview.index, \n",
        "                        vmin=0, vmax=1, color_map=\"Oranges\", \n",
        "                        title=r\"correlation $\\phi_K$\", \n",
        "                        fontsize_factor=1.5, \n",
        "                            figsize=(20, 14))\n",
        "plt.tight_layout()"
      ]
    },
    {
      "cell_type": "markdown",
      "source": [
        "Как и ранее, сильной корреляции не выявлено. "
      ],
      "metadata": {
        "id": "xbMH5MhYAMpH"
      }
    },
    {
      "cell_type": "markdown",
      "metadata": {
        "id": "87194c1a"
      },
      "source": [
        "## Масштабирование признаков"
      ]
    },
    {
      "cell_type": "markdown",
      "metadata": {
        "id": "c7575b50"
      },
      "source": [
        "Нормируем отдельео разбитую на train/valid выборки и отдельно  исходные features"
      ]
    },
    {
      "cell_type": "code",
      "source": [
        "numeric = set(col_cols) - set(['Survived'])"
      ],
      "metadata": {
        "id": "Gn0uc30pDGgr"
      },
      "execution_count": 118,
      "outputs": []
    },
    {
      "cell_type": "code",
      "source": [
        "numeric = list(numeric)\n",
        "numeric"
      ],
      "metadata": {
        "colab": {
          "base_uri": "https://localhost:8080/"
        },
        "id": "AsKtXqxtCm0C",
        "outputId": "502503f9-b353-4e5d-8a86-0638995d0689"
      },
      "execution_count": 119,
      "outputs": [
        {
          "output_type": "execute_result",
          "data": {
            "text/plain": [
              "['Pclass', 'Age', 'Parch', 'SibSp', 'Fare']"
            ]
          },
          "metadata": {},
          "execution_count": 119
        }
      ]
    },
    {
      "cell_type": "code",
      "execution_count": 120,
      "metadata": {
        "id": "537aa1d3",
        "outputId": "1d001e06-a2b5-4a7a-de79-3a7dcdb32c9a",
        "colab": {
          "base_uri": "https://localhost:8080/",
          "height": 424
        }
      },
      "outputs": [
        {
          "output_type": "execute_result",
          "data": {
            "text/plain": [
              "       Pclass       Age     SibSp     Parch      Fare  Sex_male  Embarked_Q  \\\n",
              "151 -1.448638 -0.629231  0.471957 -0.499763  0.602676         0           0   \n",
              "100  0.893358 -0.412234 -0.513274 -0.499763 -0.510632         0           0   \n",
              "268 -1.448638  0.672747 -0.513274  0.682883  2.249997         0           0   \n",
              "538  0.893358  2.191720 -0.513274 -0.499763 -0.385386         1           0   \n",
              "263 -1.448638  0.021758 -0.513274 -0.499763 -0.660374         1           0   \n",
              "..        ...       ...       ...       ...       ...       ...         ...   \n",
              "20  -0.277640 -0.159072 -0.513274 -0.499763 -0.167291         1           0   \n",
              "491  0.893358 -0.665397 -0.513274 -0.499763 -0.522880         1           0   \n",
              "307 -1.448638 -0.810061  0.471957 -0.499763  1.404883         0           0   \n",
              "206  0.893358 -0.267570  0.471957 -0.499763 -0.359783         1           0   \n",
              "349  0.893358  0.094090 -0.513274 -0.499763 -0.496092         1           0   \n",
              "\n",
              "     Embarked_S  \n",
              "151           1  \n",
              "100           1  \n",
              "268           1  \n",
              "538           1  \n",
              "263           1  \n",
              "..          ...  \n",
              "20            1  \n",
              "491           1  \n",
              "307           0  \n",
              "206           1  \n",
              "349           1  \n",
              "\n",
              "[155 rows x 8 columns]"
            ],
            "text/html": [
              "\n",
              "  <div id=\"df-b21a61d5-ffde-4b0f-9810-a4575ccf5a86\">\n",
              "    <div class=\"colab-df-container\">\n",
              "      <div>\n",
              "<style scoped>\n",
              "    .dataframe tbody tr th:only-of-type {\n",
              "        vertical-align: middle;\n",
              "    }\n",
              "\n",
              "    .dataframe tbody tr th {\n",
              "        vertical-align: top;\n",
              "    }\n",
              "\n",
              "    .dataframe thead th {\n",
              "        text-align: right;\n",
              "    }\n",
              "</style>\n",
              "<table border=\"1\" class=\"dataframe\">\n",
              "  <thead>\n",
              "    <tr style=\"text-align: right;\">\n",
              "      <th></th>\n",
              "      <th>Pclass</th>\n",
              "      <th>Age</th>\n",
              "      <th>SibSp</th>\n",
              "      <th>Parch</th>\n",
              "      <th>Fare</th>\n",
              "      <th>Sex_male</th>\n",
              "      <th>Embarked_Q</th>\n",
              "      <th>Embarked_S</th>\n",
              "    </tr>\n",
              "  </thead>\n",
              "  <tbody>\n",
              "    <tr>\n",
              "      <th>151</th>\n",
              "      <td>-1.448638</td>\n",
              "      <td>-0.629231</td>\n",
              "      <td>0.471957</td>\n",
              "      <td>-0.499763</td>\n",
              "      <td>0.602676</td>\n",
              "      <td>0</td>\n",
              "      <td>0</td>\n",
              "      <td>1</td>\n",
              "    </tr>\n",
              "    <tr>\n",
              "      <th>100</th>\n",
              "      <td>0.893358</td>\n",
              "      <td>-0.412234</td>\n",
              "      <td>-0.513274</td>\n",
              "      <td>-0.499763</td>\n",
              "      <td>-0.510632</td>\n",
              "      <td>0</td>\n",
              "      <td>0</td>\n",
              "      <td>1</td>\n",
              "    </tr>\n",
              "    <tr>\n",
              "      <th>268</th>\n",
              "      <td>-1.448638</td>\n",
              "      <td>0.672747</td>\n",
              "      <td>-0.513274</td>\n",
              "      <td>0.682883</td>\n",
              "      <td>2.249997</td>\n",
              "      <td>0</td>\n",
              "      <td>0</td>\n",
              "      <td>1</td>\n",
              "    </tr>\n",
              "    <tr>\n",
              "      <th>538</th>\n",
              "      <td>0.893358</td>\n",
              "      <td>2.191720</td>\n",
              "      <td>-0.513274</td>\n",
              "      <td>-0.499763</td>\n",
              "      <td>-0.385386</td>\n",
              "      <td>1</td>\n",
              "      <td>0</td>\n",
              "      <td>1</td>\n",
              "    </tr>\n",
              "    <tr>\n",
              "      <th>263</th>\n",
              "      <td>-1.448638</td>\n",
              "      <td>0.021758</td>\n",
              "      <td>-0.513274</td>\n",
              "      <td>-0.499763</td>\n",
              "      <td>-0.660374</td>\n",
              "      <td>1</td>\n",
              "      <td>0</td>\n",
              "      <td>1</td>\n",
              "    </tr>\n",
              "    <tr>\n",
              "      <th>...</th>\n",
              "      <td>...</td>\n",
              "      <td>...</td>\n",
              "      <td>...</td>\n",
              "      <td>...</td>\n",
              "      <td>...</td>\n",
              "      <td>...</td>\n",
              "      <td>...</td>\n",
              "      <td>...</td>\n",
              "    </tr>\n",
              "    <tr>\n",
              "      <th>20</th>\n",
              "      <td>-0.277640</td>\n",
              "      <td>-0.159072</td>\n",
              "      <td>-0.513274</td>\n",
              "      <td>-0.499763</td>\n",
              "      <td>-0.167291</td>\n",
              "      <td>1</td>\n",
              "      <td>0</td>\n",
              "      <td>1</td>\n",
              "    </tr>\n",
              "    <tr>\n",
              "      <th>491</th>\n",
              "      <td>0.893358</td>\n",
              "      <td>-0.665397</td>\n",
              "      <td>-0.513274</td>\n",
              "      <td>-0.499763</td>\n",
              "      <td>-0.522880</td>\n",
              "      <td>1</td>\n",
              "      <td>0</td>\n",
              "      <td>1</td>\n",
              "    </tr>\n",
              "    <tr>\n",
              "      <th>307</th>\n",
              "      <td>-1.448638</td>\n",
              "      <td>-0.810061</td>\n",
              "      <td>0.471957</td>\n",
              "      <td>-0.499763</td>\n",
              "      <td>1.404883</td>\n",
              "      <td>0</td>\n",
              "      <td>0</td>\n",
              "      <td>0</td>\n",
              "    </tr>\n",
              "    <tr>\n",
              "      <th>206</th>\n",
              "      <td>0.893358</td>\n",
              "      <td>-0.267570</td>\n",
              "      <td>0.471957</td>\n",
              "      <td>-0.499763</td>\n",
              "      <td>-0.359783</td>\n",
              "      <td>1</td>\n",
              "      <td>0</td>\n",
              "      <td>1</td>\n",
              "    </tr>\n",
              "    <tr>\n",
              "      <th>349</th>\n",
              "      <td>0.893358</td>\n",
              "      <td>0.094090</td>\n",
              "      <td>-0.513274</td>\n",
              "      <td>-0.499763</td>\n",
              "      <td>-0.496092</td>\n",
              "      <td>1</td>\n",
              "      <td>0</td>\n",
              "      <td>1</td>\n",
              "    </tr>\n",
              "  </tbody>\n",
              "</table>\n",
              "<p>155 rows × 8 columns</p>\n",
              "</div>\n",
              "      <button class=\"colab-df-convert\" onclick=\"convertToInteractive('df-b21a61d5-ffde-4b0f-9810-a4575ccf5a86')\"\n",
              "              title=\"Convert this dataframe to an interactive table.\"\n",
              "              style=\"display:none;\">\n",
              "        \n",
              "  <svg xmlns=\"http://www.w3.org/2000/svg\" height=\"24px\"viewBox=\"0 0 24 24\"\n",
              "       width=\"24px\">\n",
              "    <path d=\"M0 0h24v24H0V0z\" fill=\"none\"/>\n",
              "    <path d=\"M18.56 5.44l.94 2.06.94-2.06 2.06-.94-2.06-.94-.94-2.06-.94 2.06-2.06.94zm-11 1L8.5 8.5l.94-2.06 2.06-.94-2.06-.94L8.5 2.5l-.94 2.06-2.06.94zm10 10l.94 2.06.94-2.06 2.06-.94-2.06-.94-.94-2.06-.94 2.06-2.06.94z\"/><path d=\"M17.41 7.96l-1.37-1.37c-.4-.4-.92-.59-1.43-.59-.52 0-1.04.2-1.43.59L10.3 9.45l-7.72 7.72c-.78.78-.78 2.05 0 2.83L4 21.41c.39.39.9.59 1.41.59.51 0 1.02-.2 1.41-.59l7.78-7.78 2.81-2.81c.8-.78.8-2.07 0-2.86zM5.41 20L4 18.59l7.72-7.72 1.47 1.35L5.41 20z\"/>\n",
              "  </svg>\n",
              "      </button>\n",
              "      \n",
              "  <style>\n",
              "    .colab-df-container {\n",
              "      display:flex;\n",
              "      flex-wrap:wrap;\n",
              "      gap: 12px;\n",
              "    }\n",
              "\n",
              "    .colab-df-convert {\n",
              "      background-color: #E8F0FE;\n",
              "      border: none;\n",
              "      border-radius: 50%;\n",
              "      cursor: pointer;\n",
              "      display: none;\n",
              "      fill: #1967D2;\n",
              "      height: 32px;\n",
              "      padding: 0 0 0 0;\n",
              "      width: 32px;\n",
              "    }\n",
              "\n",
              "    .colab-df-convert:hover {\n",
              "      background-color: #E2EBFA;\n",
              "      box-shadow: 0px 1px 2px rgba(60, 64, 67, 0.3), 0px 1px 3px 1px rgba(60, 64, 67, 0.15);\n",
              "      fill: #174EA6;\n",
              "    }\n",
              "\n",
              "    [theme=dark] .colab-df-convert {\n",
              "      background-color: #3B4455;\n",
              "      fill: #D2E3FC;\n",
              "    }\n",
              "\n",
              "    [theme=dark] .colab-df-convert:hover {\n",
              "      background-color: #434B5C;\n",
              "      box-shadow: 0px 1px 3px 1px rgba(0, 0, 0, 0.15);\n",
              "      filter: drop-shadow(0px 1px 2px rgba(0, 0, 0, 0.3));\n",
              "      fill: #FFFFFF;\n",
              "    }\n",
              "  </style>\n",
              "\n",
              "      <script>\n",
              "        const buttonEl =\n",
              "          document.querySelector('#df-b21a61d5-ffde-4b0f-9810-a4575ccf5a86 button.colab-df-convert');\n",
              "        buttonEl.style.display =\n",
              "          google.colab.kernel.accessAllowed ? 'block' : 'none';\n",
              "\n",
              "        async function convertToInteractive(key) {\n",
              "          const element = document.querySelector('#df-b21a61d5-ffde-4b0f-9810-a4575ccf5a86');\n",
              "          const dataTable =\n",
              "            await google.colab.kernel.invokeFunction('convertToInteractive',\n",
              "                                                     [key], {});\n",
              "          if (!dataTable) return;\n",
              "\n",
              "          const docLinkHtml = 'Like what you see? Visit the ' +\n",
              "            '<a target=\"_blank\" href=https://colab.research.google.com/notebooks/data_table.ipynb>data table notebook</a>'\n",
              "            + ' to learn more about interactive tables.';\n",
              "          element.innerHTML = '';\n",
              "          dataTable['output_type'] = 'display_data';\n",
              "          await google.colab.output.renderOutput(dataTable, element);\n",
              "          const docLink = document.createElement('div');\n",
              "          docLink.innerHTML = docLinkHtml;\n",
              "          element.appendChild(docLink);\n",
              "        }\n",
              "      </script>\n",
              "    </div>\n",
              "  </div>\n",
              "  "
            ]
          },
          "metadata": {},
          "execution_count": 120
        }
      ],
      "source": [
        "scaler = StandardScaler()\n",
        "scaler.fit(X_train[numeric])\n",
        "X_train[numeric] = scaler.transform(X_train[numeric])\n",
        "X_valid[numeric] = scaler.transform(X_valid[numeric])\n",
        "X_valid"
      ]
    },
    {
      "cell_type": "markdown",
      "source": [
        "## Вывод\n",
        "\n",
        "1. Было произведено разделение на трейн и валид в отношении 1 к 4, и еще тестовая выборка у нас дана отдельно. \n",
        "2. Взаимной коррреляции найдено не было\n",
        "3. Произведено масштабирование числовых признаков."
      ],
      "metadata": {
        "id": "HctMMK5dEEVr"
      }
    },
    {
      "cell_type": "markdown",
      "source": [
        "# Обучение"
      ],
      "metadata": {
        "id": "EolzJlwLEcZq"
      }
    },
    {
      "cell_type": "markdown",
      "source": [
        "## Обучение без подбора гиперпараметров"
      ],
      "metadata": {
        "id": "qu9eHw2WErTB"
      }
    },
    {
      "cell_type": "markdown",
      "source": [
        "### Логистическая регрессия"
      ],
      "metadata": {
        "id": "NorQ6yPsExBO"
      }
    },
    {
      "cell_type": "code",
      "source": [
        "lr =  LogisticRegression()\n",
        "lr.fit(X_train, y_train)"
      ],
      "metadata": {
        "colab": {
          "base_uri": "https://localhost:8080/"
        },
        "id": "WAuHur1XFXFh",
        "outputId": "5937bf2e-5d2d-417a-ef47-7f1c2e94c008"
      },
      "execution_count": 121,
      "outputs": [
        {
          "output_type": "execute_result",
          "data": {
            "text/plain": [
              "LogisticRegression()"
            ]
          },
          "metadata": {},
          "execution_count": 121
        }
      ]
    },
    {
      "cell_type": "code",
      "source": [
        "for X, y, label in zip([X_train, X_valid], [y_train, y_valid], ['train', 'test']):\n",
        "  pred = lr.predict(X)\n",
        "  \n",
        "  \n",
        "  print(f'Acc {label}={accuracy_score(y, pred):.3f}')  \n",
        "  print(f'F1 {label}={f1_score(y, pred):.3f}')     \n",
        "  print(f'ROC_AUC {label}={roc_auc_score(y, lr.predict_proba(X)[:, 1]):.3f}\\n')     \n",
        "\n"
      ],
      "metadata": {
        "id": "ZF_erZd-kvZ9",
        "colab": {
          "base_uri": "https://localhost:8080/"
        },
        "outputId": "1212d2e4-c393-43ee-f1ca-509c5c7557be"
      },
      "execution_count": 122,
      "outputs": [
        {
          "output_type": "stream",
          "name": "stdout",
          "text": [
            "Acc train=0.792\n",
            "F1 train=0.731\n",
            "ROC_AUC train=0.837\n",
            "\n",
            "Acc test=0.768\n",
            "F1 test=0.700\n",
            "ROC_AUC test=0.817\n",
            "\n"
          ]
        }
      ]
    },
    {
      "cell_type": "markdown",
      "source": [
        "### Метод ближайших соседей"
      ],
      "metadata": {
        "id": "29E09pDwGQu_"
      }
    },
    {
      "cell_type": "code",
      "source": [
        "knn = KNeighborsClassifier()\n",
        "knn.fit(X_train, y_train)"
      ],
      "metadata": {
        "id": "hSn_tmLh0hTd",
        "colab": {
          "base_uri": "https://localhost:8080/"
        },
        "outputId": "e164b3a9-b49f-4dac-ce96-6bcb014c307b"
      },
      "execution_count": 123,
      "outputs": [
        {
          "output_type": "execute_result",
          "data": {
            "text/plain": [
              "KNeighborsClassifier()"
            ]
          },
          "metadata": {},
          "execution_count": 123
        }
      ]
    },
    {
      "cell_type": "code",
      "source": [
        "for X, y, label in zip([X_train, X_valid], [y_train, y_valid], ['train', 'test']):\n",
        "  pred = knn.predict(X)\n",
        "  \n",
        "  print(f'Acc {label}={accuracy_score(y, pred):.3f}')\n",
        "  print(f'F1 {label}={f1_score(y, pred):.3f}')  \n",
        "  print(f'ROC_AUC {label}={roc_auc_score(y, knn.predict_proba(X)[:, 1]):.3f}\\n') "
      ],
      "metadata": {
        "id": "cSJ7ZmDLEdjn",
        "colab": {
          "base_uri": "https://localhost:8080/"
        },
        "outputId": "7897f8fd-8f19-4ed7-8b75-dec4fafbb3e3"
      },
      "execution_count": 124,
      "outputs": [
        {
          "output_type": "stream",
          "name": "stdout",
          "text": [
            "Acc train=0.832\n",
            "F1 train=0.785\n",
            "ROC_AUC train=0.903\n",
            "\n",
            "Acc test=0.735\n",
            "F1 test=0.677\n",
            "ROC_AUC test=0.803\n",
            "\n"
          ]
        }
      ]
    },
    {
      "cell_type": "markdown",
      "source": [
        "## Обучение с подбором гиперпараметров"
      ],
      "metadata": {
        "id": "cm9LGylpH33s"
      }
    },
    {
      "cell_type": "markdown",
      "source": [
        "### Логистическая регрессия"
      ],
      "metadata": {
        "id": "VwYYQBj2I7km"
      }
    },
    {
      "cell_type": "code",
      "source": [
        "params = dict(\n",
        "    C = [100, 10, 1, 0.1, 0.01, 0.001],\n",
        "    penalty=['l1', 'l2', 'elasticnet'],\n",
        "    solver=['saga'],\n",
        "    multi_class =['auto', 'ovr', 'multinomial'],\n",
        "    l1_ratio=[1]\n",
        ")"
      ],
      "metadata": {
        "id": "naJQf-jwIGAd"
      },
      "execution_count": 125,
      "outputs": []
    },
    {
      "cell_type": "code",
      "source": [
        "lr = LogisticRegression()\n",
        "cv = RandomizedSearchCV(lr, params, n_jobs=-1, cv=5)\n",
        "cv.fit(X_train, y_train)"
      ],
      "metadata": {
        "colab": {
          "base_uri": "https://localhost:8080/"
        },
        "id": "-31b6Q1wMN4C",
        "outputId": "5a7e9273-4256-4d85-8da0-8fc91d0bc1e2"
      },
      "execution_count": 126,
      "outputs": [
        {
          "output_type": "execute_result",
          "data": {
            "text/plain": [
              "RandomizedSearchCV(cv=5, estimator=LogisticRegression(), n_jobs=-1,\n",
              "                   param_distributions={'C': [100, 10, 1, 0.1, 0.01, 0.001],\n",
              "                                        'l1_ratio': [1],\n",
              "                                        'multi_class': ['auto', 'ovr',\n",
              "                                                        'multinomial'],\n",
              "                                        'penalty': ['l1', 'l2', 'elasticnet'],\n",
              "                                        'solver': ['saga']})"
            ]
          },
          "metadata": {},
          "execution_count": 126
        }
      ]
    },
    {
      "cell_type": "code",
      "source": [
        "best_params = cv.best_params_\n",
        "best_params"
      ],
      "metadata": {
        "colab": {
          "base_uri": "https://localhost:8080/"
        },
        "id": "CnJ6fvyNMSk1",
        "outputId": "fcdf88b4-182d-4ebe-d6ae-97090afe9fc2"
      },
      "execution_count": 127,
      "outputs": [
        {
          "output_type": "execute_result",
          "data": {
            "text/plain": [
              "{'solver': 'saga',\n",
              " 'penalty': 'elasticnet',\n",
              " 'multi_class': 'ovr',\n",
              " 'l1_ratio': 1,\n",
              " 'C': 1}"
            ]
          },
          "metadata": {},
          "execution_count": 127
        }
      ]
    },
    {
      "cell_type": "code",
      "source": [
        "lr = LogisticRegression(**best_params)\n",
        "lr.fit(X_train, y_train)"
      ],
      "metadata": {
        "colab": {
          "base_uri": "https://localhost:8080/"
        },
        "id": "vQ-46fzzMsmv",
        "outputId": "6dfe8b70-893d-46db-9fbb-65f7daa9c8b3"
      },
      "execution_count": 128,
      "outputs": [
        {
          "output_type": "execute_result",
          "data": {
            "text/plain": [
              "LogisticRegression(C=1, l1_ratio=1, multi_class='ovr', penalty='elasticnet',\n",
              "                   solver='saga')"
            ]
          },
          "metadata": {},
          "execution_count": 128
        }
      ]
    },
    {
      "cell_type": "code",
      "source": [
        "for X, y, label in zip([X_train, X_valid], [y_train, y_valid], ['train', 'test']):\n",
        "  pred = lr.predict(X)\n",
        "  \n",
        "  print(f'Acc {label}={accuracy_score(y, pred):.3f}')  \n",
        "  print(f'F1 {label}={f1_score(y, pred):.3f}')   \n",
        "  print(f'ROC_AUC {label}={roc_auc_score(y, lr.predict_proba(X)[:, 1]):.3f}\\n') "
      ],
      "metadata": {
        "colab": {
          "base_uri": "https://localhost:8080/"
        },
        "id": "oqVZsuFkM6B3",
        "outputId": "40053523-a966-4ad1-ee4e-83eee5a4461d"
      },
      "execution_count": 129,
      "outputs": [
        {
          "output_type": "stream",
          "name": "stdout",
          "text": [
            "Acc train=0.789\n",
            "F1 train=0.728\n",
            "ROC_AUC train=0.836\n",
            "\n",
            "Acc test=0.768\n",
            "F1 test=0.700\n",
            "ROC_AUC test=0.817\n",
            "\n"
          ]
        }
      ]
    },
    {
      "cell_type": "markdown",
      "source": [
        "### Метод KNN"
      ],
      "metadata": {
        "id": "8ZnaM8BVJlDZ"
      }
    },
    {
      "cell_type": "code",
      "source": [
        "params = dict(\n",
        "    n_neighbors = range(1, 40),\n",
        "    weights = ['uniform', 'distance'],\n",
        "    algorithm = ['auto', 'ball_tree', 'kd_tree', 'brute'],\n",
        "    p=[1, 2]\n",
        "\n",
        ")"
      ],
      "metadata": {
        "id": "fVpH2sB1FdFK"
      },
      "execution_count": 130,
      "outputs": []
    },
    {
      "cell_type": "code",
      "source": [
        "knn = KNeighborsClassifier()\n",
        "cv = RandomizedSearchCV(knn, params, n_jobs=-1, cv=5)\n",
        "cv.fit(X_train, y_train)"
      ],
      "metadata": {
        "id": "WCfuSi9gJB1A",
        "colab": {
          "base_uri": "https://localhost:8080/"
        },
        "outputId": "ef8c28fa-2af9-426d-caf5-3c6c8f1b4d93"
      },
      "execution_count": 131,
      "outputs": [
        {
          "output_type": "execute_result",
          "data": {
            "text/plain": [
              "RandomizedSearchCV(cv=5, estimator=KNeighborsClassifier(), n_jobs=-1,\n",
              "                   param_distributions={'algorithm': ['auto', 'ball_tree',\n",
              "                                                      'kd_tree', 'brute'],\n",
              "                                        'n_neighbors': range(1, 40),\n",
              "                                        'p': [1, 2],\n",
              "                                        'weights': ['uniform', 'distance']})"
            ]
          },
          "metadata": {},
          "execution_count": 131
        }
      ]
    },
    {
      "cell_type": "code",
      "source": [
        "best_params = cv.best_params_\n",
        "best_params"
      ],
      "metadata": {
        "id": "MZSpOdc2JNbT",
        "colab": {
          "base_uri": "https://localhost:8080/"
        },
        "outputId": "83bbfad9-f0ba-4e81-c610-f72b00fba2d1"
      },
      "execution_count": 132,
      "outputs": [
        {
          "output_type": "execute_result",
          "data": {
            "text/plain": [
              "{'weights': 'uniform', 'p': 1, 'n_neighbors': 8, 'algorithm': 'kd_tree'}"
            ]
          },
          "metadata": {},
          "execution_count": 132
        }
      ]
    },
    {
      "cell_type": "code",
      "source": [
        "knn = KNeighborsClassifier(**best_params)\n",
        "knn.fit(X_train, y_train)"
      ],
      "metadata": {
        "id": "P_tfA_4uJfJF",
        "colab": {
          "base_uri": "https://localhost:8080/"
        },
        "outputId": "16d6c5cb-0d50-44dd-95ff-65138ba904f6"
      },
      "execution_count": 133,
      "outputs": [
        {
          "output_type": "execute_result",
          "data": {
            "text/plain": [
              "KNeighborsClassifier(algorithm='kd_tree', n_neighbors=8, p=1)"
            ]
          },
          "metadata": {},
          "execution_count": 133
        }
      ]
    },
    {
      "cell_type": "code",
      "source": [
        "for X, y, label in zip([X_train, X_valid], [y_train, y_valid], ['train', 'test']):\n",
        "  pred = knn.predict(X)\n",
        "  \n",
        "  print(f'Acc {label}={accuracy_score(y, pred):.3f}')\n",
        "  print(f'F1 {label}={f1_score(y, pred):.3f}') \n",
        "  print(f'ROC_AUC {label}={roc_auc_score(y, knn.predict_proba(X)[:, 1]):.3f}\\n')    "
      ],
      "metadata": {
        "id": "olxpkxacJoyt",
        "colab": {
          "base_uri": "https://localhost:8080/"
        },
        "outputId": "dc7f4b27-04b9-4d3e-a2ee-11a4406fed3f"
      },
      "execution_count": 134,
      "outputs": [
        {
          "output_type": "stream",
          "name": "stdout",
          "text": [
            "Acc train=0.815\n",
            "F1 train=0.746\n",
            "ROC_AUC train=0.887\n",
            "\n",
            "Acc test=0.781\n",
            "F1 test=0.702\n",
            "ROC_AUC test=0.827\n",
            "\n"
          ]
        }
      ]
    },
    {
      "cell_type": "markdown",
      "source": [
        "### CatBoost"
      ],
      "metadata": {
        "id": "YkjKS1h3Hrt0"
      }
    },
    {
      "cell_type": "code",
      "source": [
        "%%time\n",
        "\n",
        "!pip install catboost\n",
        "from catboost import CatBoostClassifier\n"
      ],
      "metadata": {
        "colab": {
          "base_uri": "https://localhost:8080/"
        },
        "id": "lhkn4aq6Egq3",
        "outputId": "aa262a0b-6349-456f-ac94-39d58d00cf9a"
      },
      "execution_count": 135,
      "outputs": [
        {
          "output_type": "stream",
          "name": "stdout",
          "text": [
            "Looking in indexes: https://pypi.org/simple, https://us-python.pkg.dev/colab-wheels/public/simple/\n",
            "Requirement already satisfied: catboost in /usr/local/lib/python3.8/dist-packages (1.1.1)\n",
            "Requirement already satisfied: scipy in /usr/local/lib/python3.8/dist-packages (from catboost) (1.7.3)\n",
            "Requirement already satisfied: matplotlib in /usr/local/lib/python3.8/dist-packages (from catboost) (3.2.2)\n",
            "Requirement already satisfied: pandas>=0.24.0 in /usr/local/lib/python3.8/dist-packages (from catboost) (1.3.5)\n",
            "Requirement already satisfied: numpy>=1.16.0 in /usr/local/lib/python3.8/dist-packages (from catboost) (1.21.6)\n",
            "Requirement already satisfied: plotly in /usr/local/lib/python3.8/dist-packages (from catboost) (5.5.0)\n",
            "Requirement already satisfied: six in /usr/local/lib/python3.8/dist-packages (from catboost) (1.15.0)\n",
            "Requirement already satisfied: graphviz in /usr/local/lib/python3.8/dist-packages (from catboost) (0.10.1)\n",
            "Requirement already satisfied: pytz>=2017.3 in /usr/local/lib/python3.8/dist-packages (from pandas>=0.24.0->catboost) (2022.6)\n",
            "Requirement already satisfied: python-dateutil>=2.7.3 in /usr/local/lib/python3.8/dist-packages (from pandas>=0.24.0->catboost) (2.8.2)\n",
            "Requirement already satisfied: cycler>=0.10 in /usr/local/lib/python3.8/dist-packages (from matplotlib->catboost) (0.11.0)\n",
            "Requirement already satisfied: kiwisolver>=1.0.1 in /usr/local/lib/python3.8/dist-packages (from matplotlib->catboost) (1.4.4)\n",
            "Requirement already satisfied: pyparsing!=2.0.4,!=2.1.2,!=2.1.6,>=2.0.1 in /usr/local/lib/python3.8/dist-packages (from matplotlib->catboost) (3.0.9)\n",
            "Requirement already satisfied: tenacity>=6.2.0 in /usr/local/lib/python3.8/dist-packages (from plotly->catboost) (8.1.0)\n",
            "CPU times: user 79.4 ms, sys: 17.6 ms, total: 97 ms\n",
            "Wall time: 7.12 s\n"
          ]
        }
      ]
    },
    {
      "cell_type": "code",
      "source": [
        "cat_cols_boost = ['Sex',\t'Embarked']"
      ],
      "metadata": {
        "id": "vLczwYnOF707"
      },
      "execution_count": 136,
      "outputs": []
    },
    {
      "cell_type": "code",
      "source": [
        "model = CatBoostClassifier(loss_function='Logloss', \n",
        "                               cat_features=cat_cols_boost,\n",
        "                               eval_metric = 'Accuracy', #:hints=skip_train~false\n",
        "                               verbose=False)\n",
        "\n",
        "grid = {'learning_rate': np.linspace(0.01, 0.2, 10),\n",
        "        'depth': [3, 6],\n",
        "        'l2_leaf_reg': [2, 5],\n",
        "        'n_estimators': [200, 300]}\n",
        "\n",
        "randomized_search_result = model.randomized_search(grid,\n",
        "                                       X=X_train_cat, \n",
        "                                       y=y_train_cat,\n",
        "                                       stratified = True,\n",
        "                                       train_size = 0.8,\n",
        "                                       cv=3,\n",
        "                                       refit=True,\n",
        "                                       verbose=500,\n",
        "                                       plot=True)"
      ],
      "metadata": {
        "colab": {
          "base_uri": "https://localhost:8080/",
          "height": 1000,
          "referenced_widgets": [
            "078298ba5ddc4a5c90a768b97409d39c"
          ]
        },
        "id": "LwSl2iIRFbb3",
        "outputId": "e6123f49-76f6-47a3-e2d7-d915ed22ff83"
      },
      "execution_count": 137,
      "outputs": [
        {
          "output_type": "display_data",
          "data": {
            "text/plain": [
              "MetricVisualizer(layout=Layout(align_self='stretch', height='500px'))"
            ],
            "application/vnd.jupyter.widget-view+json": {
              "version_major": 2,
              "version_minor": 0,
              "model_id": "078298ba5ddc4a5c90a768b97409d39c"
            }
          },
          "metadata": {}
        },
        {
          "output_type": "stream",
          "name": "stdout",
          "text": [
            "\n",
            "bestTest = 0.7903225806\n",
            "bestIteration = 35\n",
            "\n",
            "0:\tloss: 0.7903226\tbest: 0.7903226 (0)\ttotal: 734ms\tremaining: 6.6s\n",
            "\n",
            "bestTest = 0.7983870968\n",
            "bestIteration = 200\n",
            "\n",
            "\n",
            "bestTest = 0.7983870968\n",
            "bestIteration = 180\n",
            "\n",
            "\n",
            "bestTest = 0.7983870968\n",
            "bestIteration = 108\n",
            "\n",
            "\n",
            "bestTest = 0.7741935484\n",
            "bestIteration = 22\n",
            "\n",
            "\n",
            "bestTest = 0.7903225806\n",
            "bestIteration = 86\n",
            "\n",
            "\n",
            "bestTest = 0.8064516129\n",
            "bestIteration = 179\n",
            "\n",
            "\n",
            "bestTest = 0.7903225806\n",
            "bestIteration = 171\n",
            "\n",
            "\n",
            "bestTest = 0.8064516129\n",
            "bestIteration = 288\n",
            "\n",
            "\n",
            "bestTest = 0.814516129\n",
            "bestIteration = 76\n",
            "\n",
            "9:\tloss: 0.8145161\tbest: 0.8145161 (9)\ttotal: 10.7s\tremaining: 0us\n",
            "Estimating final quality...\n",
            "Training on fold [0/3]\n",
            "\n",
            "bestTest = 0.7874396135\n",
            "bestIteration = 37\n",
            "\n",
            "Training on fold [1/3]\n",
            "\n",
            "bestTest = 0.7922705314\n",
            "bestIteration = 74\n",
            "\n",
            "Training on fold [2/3]\n",
            "\n",
            "bestTest = 0.8009708738\n",
            "bestIteration = 3\n",
            "\n"
          ]
        }
      ]
    },
    {
      "cell_type": "code",
      "source": [
        "randomized_search_result['params']"
      ],
      "metadata": {
        "colab": {
          "base_uri": "https://localhost:8080/"
        },
        "id": "unexXGIsGbRb",
        "outputId": "45616cb1-fdbe-4f30-c4e6-bd30e1f47eae"
      },
      "execution_count": 138,
      "outputs": [
        {
          "output_type": "execute_result",
          "data": {
            "text/plain": [
              "{'depth': 6,\n",
              " 'l2_leaf_reg': 5,\n",
              " 'iterations': 300,\n",
              " 'learning_rate': 0.1577777777777778}"
            ]
          },
          "metadata": {},
          "execution_count": 138
        }
      ]
    },
    {
      "cell_type": "code",
      "source": [
        "best_model = CatBoostClassifier(depth = randomized_search_result['params']['depth'],\n",
        "                                l2_leaf_reg = randomized_search_result['params']['l2_leaf_reg'], \n",
        "                                learning_rate = randomized_search_result['params']['learning_rate'],\n",
        "                                eval_metric='Accuracy',\n",
        "                                iterations=200,\n",
        "                                loss_function= 'Logloss',\n",
        "                                cat_features=cat_cols_boost,\n",
        "                                random_seed=12345,\n",
        "                                verbose=200)\n",
        "    \n",
        "best_model.fit(X_train_cat, y_train_cat)\n",
        "\n",
        "pred_train = best_model.predict(X_valid_cat)\n",
        "accuracy_score(y_valid_cat, pred_train)"
      ],
      "metadata": {
        "colab": {
          "base_uri": "https://localhost:8080/"
        },
        "id": "Q5cIfEsnGl4r",
        "outputId": "4c093b6f-c2e0-48fb-dd3b-144f09e1b08b"
      },
      "execution_count": 139,
      "outputs": [
        {
          "output_type": "stream",
          "name": "stdout",
          "text": [
            "0:\tlearn: 0.7774194\ttotal: 3.99ms\tremaining: 793ms\n",
            "199:\tlearn: 0.9629032\ttotal: 1.05s\tremaining: 0us\n"
          ]
        },
        {
          "output_type": "execute_result",
          "data": {
            "text/plain": [
              "0.7870967741935484"
            ]
          },
          "metadata": {},
          "execution_count": 139
        }
      ]
    },
    {
      "cell_type": "markdown",
      "source": [
        "## Вывод\n",
        "\n",
        "Видим, что с подбором гиперпараметров метрики незначительно повысислись. \n",
        "Accuracy достигает более менее нормальных значений: 0.755 на валидационной выборке у логистичекой регрессии и 0.781 у KNN."
      ],
      "metadata": {
        "id": "uZGlJN7mNyh-"
      }
    },
    {
      "cell_type": "markdown",
      "source": [
        "# Проверка на тестовой выборке"
      ],
      "metadata": {
        "id": "6f8WTL75OQCM"
      }
    },
    {
      "cell_type": "code",
      "source": [
        "df_test = pd.read_csv('/content/drive/MyDrive/1T_sprint_titanic/test.csv')"
      ],
      "metadata": {
        "id": "Fh9v1Zc4AOIg"
      },
      "execution_count": 197,
      "outputs": []
    },
    {
      "cell_type": "markdown",
      "source": [
        "## Удаление избыточных признаков"
      ],
      "metadata": {
        "id": "sF5RppzAOZKU"
      }
    },
    {
      "cell_type": "code",
      "source": [
        "df_test = df_test.drop(columns=['PassengerId','Name', 'Ticket', 'Cabin'])\n",
        "df_test.columns"
      ],
      "metadata": {
        "colab": {
          "base_uri": "https://localhost:8080/"
        },
        "outputId": "8ceb428e-88ac-422d-98e1-aaf0353ae70a",
        "id": "UeSDo5HfOZKU"
      },
      "execution_count": 198,
      "outputs": [
        {
          "output_type": "execute_result",
          "data": {
            "text/plain": [
              "Index(['Pclass', 'Sex', 'Age', 'SibSp', 'Parch', 'Fare', 'Embarked'], dtype='object')"
            ]
          },
          "metadata": {},
          "execution_count": 198
        }
      ]
    },
    {
      "cell_type": "code",
      "source": [
        "df_test = df_test[df_test['Embarked'].isna() == False]\n",
        "df_test.info()"
      ],
      "metadata": {
        "colab": {
          "base_uri": "https://localhost:8080/"
        },
        "outputId": "9c60b3b5-cea6-4ae5-c577-d578a2128bfd",
        "id": "sPSGokqiOZKV"
      },
      "execution_count": 199,
      "outputs": [
        {
          "output_type": "stream",
          "name": "stdout",
          "text": [
            "<class 'pandas.core.frame.DataFrame'>\n",
            "Int64Index: 418 entries, 0 to 417\n",
            "Data columns (total 7 columns):\n",
            " #   Column    Non-Null Count  Dtype  \n",
            "---  ------    --------------  -----  \n",
            " 0   Pclass    418 non-null    int64  \n",
            " 1   Sex       418 non-null    object \n",
            " 2   Age       332 non-null    float64\n",
            " 3   SibSp     418 non-null    int64  \n",
            " 4   Parch     418 non-null    int64  \n",
            " 5   Fare      417 non-null    float64\n",
            " 6   Embarked  418 non-null    object \n",
            "dtypes: float64(2), int64(3), object(2)\n",
            "memory usage: 26.1+ KB\n"
          ]
        }
      ]
    },
    {
      "cell_type": "markdown",
      "source": [
        "Остались пропуски в столбце возраста. И пропусков довольно много. Попробуем что-то с этим сделать. "
      ],
      "metadata": {
        "id": "iQce6VvHOZKV"
      }
    },
    {
      "cell_type": "markdown",
      "source": [
        "## Пропуски в AGE"
      ],
      "metadata": {
        "id": "ZbFsKv6cOZKW"
      }
    },
    {
      "cell_type": "code",
      "source": [
        "plt.hist(df_test['Age'])\n",
        "plt.show()"
      ],
      "metadata": {
        "colab": {
          "base_uri": "https://localhost:8080/",
          "height": 265
        },
        "outputId": "44ddf835-624c-41cc-d252-b8cd243ea0f3",
        "id": "v2SQxnJlOZKW"
      },
      "execution_count": 200,
      "outputs": [
        {
          "output_type": "display_data",
          "data": {
            "text/plain": [
              "<Figure size 432x288 with 1 Axes>"
            ],
            "image/png": "[encoded data removed]"
          },
          "metadata": {
            "needs_background": "light"
          }
        }
      ]
    },
    {
      "cell_type": "markdown",
      "source": [
        "Заменим пропуски в столбце Age на 100."
      ],
      "metadata": {
        "id": "04uRRy3gOZKW"
      }
    },
    {
      "cell_type": "code",
      "source": [
        "df_test[\"Age\"] = df_test[\"Age\"].fillna(100)"
      ],
      "metadata": {
        "id": "_WwZrGjxOZKW"
      },
      "execution_count": 201,
      "outputs": []
    },
    {
      "cell_type": "code",
      "source": [
        "df_test[\"Age\"] = df_test['Age'].transform(lambda x: x.round()).astype('int16')"
      ],
      "metadata": {
        "id": "cAE6-F36OZKX"
      },
      "execution_count": 202,
      "outputs": []
    },
    {
      "cell_type": "code",
      "source": [
        "df_test = df_test[df_test['Age'].isna() == False]\n",
        "df_test.info()"
      ],
      "metadata": {
        "colab": {
          "base_uri": "https://localhost:8080/"
        },
        "outputId": "dcaa914e-9640-4d37-cb88-ccf0987b84dc",
        "id": "HGgrZHtmOZKX"
      },
      "execution_count": 203,
      "outputs": [
        {
          "output_type": "stream",
          "name": "stdout",
          "text": [
            "<class 'pandas.core.frame.DataFrame'>\n",
            "Int64Index: 418 entries, 0 to 417\n",
            "Data columns (total 7 columns):\n",
            " #   Column    Non-Null Count  Dtype  \n",
            "---  ------    --------------  -----  \n",
            " 0   Pclass    418 non-null    int64  \n",
            " 1   Sex       418 non-null    object \n",
            " 2   Age       418 non-null    int16  \n",
            " 3   SibSp     418 non-null    int64  \n",
            " 4   Parch     418 non-null    int64  \n",
            " 5   Fare      417 non-null    float64\n",
            " 6   Embarked  418 non-null    object \n",
            "dtypes: float64(1), int16(1), int64(3), object(2)\n",
            "memory usage: 23.7+ KB\n"
          ]
        }
      ]
    },
    {
      "cell_type": "markdown",
      "source": [
        "## Замена пропуска в Fare"
      ],
      "metadata": {
        "id": "7YXEXrYkDvQx"
      }
    },
    {
      "cell_type": "code",
      "source": [
        "df_test[152:153]"
      ],
      "metadata": {
        "colab": {
          "base_uri": "https://localhost:8080/",
          "height": 81
        },
        "id": "JLH79goUAdSi",
        "outputId": "205d66c5-3c89-4cb4-b5f4-7a6526c8f56d"
      },
      "execution_count": 204,
      "outputs": [
        {
          "output_type": "execute_result",
          "data": {
            "text/plain": [
              "     Pclass   Sex  Age  SibSp  Parch  Fare Embarked\n",
              "152       3  male   60      0      0   NaN        S"
            ],
            "text/html": [
              "\n",
              "  <div id=\"df-a5d6d361-4d2d-40e4-bf58-863dd523bf80\">\n",
              "    <div class=\"colab-df-container\">\n",
              "      <div>\n",
              "<style scoped>\n",
              "    .dataframe tbody tr th:only-of-type {\n",
              "        vertical-align: middle;\n",
              "    }\n",
              "\n",
              "    .dataframe tbody tr th {\n",
              "        vertical-align: top;\n",
              "    }\n",
              "\n",
              "    .dataframe thead th {\n",
              "        text-align: right;\n",
              "    }\n",
              "</style>\n",
              "<table border=\"1\" class=\"dataframe\">\n",
              "  <thead>\n",
              "    <tr style=\"text-align: right;\">\n",
              "      <th></th>\n",
              "      <th>Pclass</th>\n",
              "      <th>Sex</th>\n",
              "      <th>Age</th>\n",
              "      <th>SibSp</th>\n",
              "      <th>Parch</th>\n",
              "      <th>Fare</th>\n",
              "      <th>Embarked</th>\n",
              "    </tr>\n",
              "  </thead>\n",
              "  <tbody>\n",
              "    <tr>\n",
              "      <th>152</th>\n",
              "      <td>3</td>\n",
              "      <td>male</td>\n",
              "      <td>60</td>\n",
              "      <td>0</td>\n",
              "      <td>0</td>\n",
              "      <td>NaN</td>\n",
              "      <td>S</td>\n",
              "    </tr>\n",
              "  </tbody>\n",
              "</table>\n",
              "</div>\n",
              "      <button class=\"colab-df-convert\" onclick=\"convertToInteractive('df-a5d6d361-4d2d-40e4-bf58-863dd523bf80')\"\n",
              "              title=\"Convert this dataframe to an interactive table.\"\n",
              "              style=\"display:none;\">\n",
              "        \n",
              "  <svg xmlns=\"http://www.w3.org/2000/svg\" height=\"24px\"viewBox=\"0 0 24 24\"\n",
              "       width=\"24px\">\n",
              "    <path d=\"M0 0h24v24H0V0z\" fill=\"none\"/>\n",
              "    <path d=\"M18.56 5.44l.94 2.06.94-2.06 2.06-.94-2.06-.94-.94-2.06-.94 2.06-2.06.94zm-11 1L8.5 8.5l.94-2.06 2.06-.94-2.06-.94L8.5 2.5l-.94 2.06-2.06.94zm10 10l.94 2.06.94-2.06 2.06-.94-2.06-.94-.94-2.06-.94 2.06-2.06.94z\"/><path d=\"M17.41 7.96l-1.37-1.37c-.4-.4-.92-.59-1.43-.59-.52 0-1.04.2-1.43.59L10.3 9.45l-7.72 7.72c-.78.78-.78 2.05 0 2.83L4 21.41c.39.39.9.59 1.41.59.51 0 1.02-.2 1.41-.59l7.78-7.78 2.81-2.81c.8-.78.8-2.07 0-2.86zM5.41 20L4 18.59l7.72-7.72 1.47 1.35L5.41 20z\"/>\n",
              "  </svg>\n",
              "      </button>\n",
              "      \n",
              "  <style>\n",
              "    .colab-df-container {\n",
              "      display:flex;\n",
              "      flex-wrap:wrap;\n",
              "      gap: 12px;\n",
              "    }\n",
              "\n",
              "    .colab-df-convert {\n",
              "      background-color: #E8F0FE;\n",
              "      border: none;\n",
              "      border-radius: 50%;\n",
              "      cursor: pointer;\n",
              "      display: none;\n",
              "      fill: #1967D2;\n",
              "      height: 32px;\n",
              "      padding: 0 0 0 0;\n",
              "      width: 32px;\n",
              "    }\n",
              "\n",
              "    .colab-df-convert:hover {\n",
              "      background-color: #E2EBFA;\n",
              "      box-shadow: 0px 1px 2px rgba(60, 64, 67, 0.3), 0px 1px 3px 1px rgba(60, 64, 67, 0.15);\n",
              "      fill: #174EA6;\n",
              "    }\n",
              "\n",
              "    [theme=dark] .colab-df-convert {\n",
              "      background-color: #3B4455;\n",
              "      fill: #D2E3FC;\n",
              "    }\n",
              "\n",
              "    [theme=dark] .colab-df-convert:hover {\n",
              "      background-color: #434B5C;\n",
              "      box-shadow: 0px 1px 3px 1px rgba(0, 0, 0, 0.15);\n",
              "      filter: drop-shadow(0px 1px 2px rgba(0, 0, 0, 0.3));\n",
              "      fill: #FFFFFF;\n",
              "    }\n",
              "  </style>\n",
              "\n",
              "      <script>\n",
              "        const buttonEl =\n",
              "          document.querySelector('#df-a5d6d361-4d2d-40e4-bf58-863dd523bf80 button.colab-df-convert');\n",
              "        buttonEl.style.display =\n",
              "          google.colab.kernel.accessAllowed ? 'block' : 'none';\n",
              "\n",
              "        async function convertToInteractive(key) {\n",
              "          const element = document.querySelector('#df-a5d6d361-4d2d-40e4-bf58-863dd523bf80');\n",
              "          const dataTable =\n",
              "            await google.colab.kernel.invokeFunction('convertToInteractive',\n",
              "                                                     [key], {});\n",
              "          if (!dataTable) return;\n",
              "\n",
              "          const docLinkHtml = 'Like what you see? Visit the ' +\n",
              "            '<a target=\"_blank\" href=https://colab.research.google.com/notebooks/data_table.ipynb>data table notebook</a>'\n",
              "            + ' to learn more about interactive tables.';\n",
              "          element.innerHTML = '';\n",
              "          dataTable['output_type'] = 'display_data';\n",
              "          await google.colab.output.renderOutput(dataTable, element);\n",
              "          const docLink = document.createElement('div');\n",
              "          docLink.innerHTML = docLinkHtml;\n",
              "          element.appendChild(docLink);\n",
              "        }\n",
              "      </script>\n",
              "    </div>\n",
              "  </div>\n",
              "  "
            ]
          },
          "metadata": {},
          "execution_count": 204
        }
      ]
    },
    {
      "cell_type": "code",
      "source": [
        "df_test.loc[df_test[df_test['Fare'].isna() == True].index, 'Fare'] = 50"
      ],
      "metadata": {
        "id": "VaZMSG7EBjDV"
      },
      "execution_count": 205,
      "outputs": []
    },
    {
      "cell_type": "code",
      "source": [
        "df_test = df_test[df_test['Fare'].isna() == False]\n",
        "df_test.info()"
      ],
      "metadata": {
        "colab": {
          "base_uri": "https://localhost:8080/"
        },
        "id": "HXaAHEsEO6Ug",
        "outputId": "e9537bb6-a4b2-4624-a374-2d1d9432a4c0"
      },
      "execution_count": 206,
      "outputs": [
        {
          "output_type": "stream",
          "name": "stdout",
          "text": [
            "<class 'pandas.core.frame.DataFrame'>\n",
            "Int64Index: 418 entries, 0 to 417\n",
            "Data columns (total 7 columns):\n",
            " #   Column    Non-Null Count  Dtype  \n",
            "---  ------    --------------  -----  \n",
            " 0   Pclass    418 non-null    int64  \n",
            " 1   Sex       418 non-null    object \n",
            " 2   Age       418 non-null    int16  \n",
            " 3   SibSp     418 non-null    int64  \n",
            " 4   Parch     418 non-null    int64  \n",
            " 5   Fare      418 non-null    float64\n",
            " 6   Embarked  418 non-null    object \n",
            "dtypes: float64(1), int16(1), int64(3), object(2)\n",
            "memory usage: 23.7+ KB\n"
          ]
        }
      ]
    },
    {
      "cell_type": "markdown",
      "source": [
        "## Удаление дубликатов"
      ],
      "metadata": {
        "id": "3HD95XgzOZKa"
      }
    },
    {
      "cell_type": "markdown",
      "source": [
        "Дубликаты удалять не будем, так как конечный файл загрузки в соревнование должен содержать 418 записей"
      ],
      "metadata": {
        "id": "rF9mjJA0Djgx"
      }
    },
    {
      "cell_type": "code",
      "source": [
        "\n",
        "#df_test= df_test.drop_duplicates()\n",
        "df_test.info()"
      ],
      "metadata": {
        "colab": {
          "base_uri": "https://localhost:8080/"
        },
        "id": "3bR9iFvROZKa",
        "outputId": "7dc3e4c9-a72c-47cd-f63a-ecb4c4b2be90"
      },
      "execution_count": 207,
      "outputs": [
        {
          "output_type": "stream",
          "name": "stdout",
          "text": [
            "<class 'pandas.core.frame.DataFrame'>\n",
            "Int64Index: 418 entries, 0 to 417\n",
            "Data columns (total 7 columns):\n",
            " #   Column    Non-Null Count  Dtype  \n",
            "---  ------    --------------  -----  \n",
            " 0   Pclass    418 non-null    int64  \n",
            " 1   Sex       418 non-null    object \n",
            " 2   Age       418 non-null    int16  \n",
            " 3   SibSp     418 non-null    int64  \n",
            " 4   Parch     418 non-null    int64  \n",
            " 5   Fare      418 non-null    float64\n",
            " 6   Embarked  418 non-null    object \n",
            "dtypes: float64(1), int16(1), int64(3), object(2)\n",
            "memory usage: 23.7+ KB\n"
          ]
        }
      ]
    },
    {
      "cell_type": "markdown",
      "source": [
        "## Кодирование категориальных признаков"
      ],
      "metadata": {
        "id": "i0j14wG1OZKb"
      }
    },
    {
      "cell_type": "markdown",
      "source": [
        "Произведем кодирование категориальных признаков.  Также как в обучающей выборке, создадим копию для CatBoost."
      ],
      "metadata": {
        "id": "03S6VZLFOZKb"
      }
    },
    {
      "cell_type": "code",
      "source": [
        "df_test_catboost = df_test.copy()\n",
        "df_test_catboost.head()"
      ],
      "metadata": {
        "colab": {
          "base_uri": "https://localhost:8080/",
          "height": 206
        },
        "id": "knur7eKWBY_R",
        "outputId": "3d9d06e0-adeb-45b6-ef5e-bcbdd915897b"
      },
      "execution_count": 208,
      "outputs": [
        {
          "output_type": "execute_result",
          "data": {
            "text/plain": [
              "   Pclass     Sex  Age  SibSp  Parch     Fare Embarked\n",
              "0       3    male   34      0      0   7.8292        Q\n",
              "1       3  female   47      1      0   7.0000        S\n",
              "2       2    male   62      0      0   9.6875        Q\n",
              "3       3    male   27      0      0   8.6625        S\n",
              "4       3  female   22      1      1  12.2875        S"
            ],
            "text/html": [
              "\n",
              "  <div id=\"df-137cf71b-e07a-4736-9a57-37357845dc22\">\n",
              "    <div class=\"colab-df-container\">\n",
              "      <div>\n",
              "<style scoped>\n",
              "    .dataframe tbody tr th:only-of-type {\n",
              "        vertical-align: middle;\n",
              "    }\n",
              "\n",
              "    .dataframe tbody tr th {\n",
              "        vertical-align: top;\n",
              "    }\n",
              "\n",
              "    .dataframe thead th {\n",
              "        text-align: right;\n",
              "    }\n",
              "</style>\n",
              "<table border=\"1\" class=\"dataframe\">\n",
              "  <thead>\n",
              "    <tr style=\"text-align: right;\">\n",
              "      <th></th>\n",
              "      <th>Pclass</th>\n",
              "      <th>Sex</th>\n",
              "      <th>Age</th>\n",
              "      <th>SibSp</th>\n",
              "      <th>Parch</th>\n",
              "      <th>Fare</th>\n",
              "      <th>Embarked</th>\n",
              "    </tr>\n",
              "  </thead>\n",
              "  <tbody>\n",
              "    <tr>\n",
              "      <th>0</th>\n",
              "      <td>3</td>\n",
              "      <td>male</td>\n",
              "      <td>34</td>\n",
              "      <td>0</td>\n",
              "      <td>0</td>\n",
              "      <td>7.8292</td>\n",
              "      <td>Q</td>\n",
              "    </tr>\n",
              "    <tr>\n",
              "      <th>1</th>\n",
              "      <td>3</td>\n",
              "      <td>female</td>\n",
              "      <td>47</td>\n",
              "      <td>1</td>\n",
              "      <td>0</td>\n",
              "      <td>7.0000</td>\n",
              "      <td>S</td>\n",
              "    </tr>\n",
              "    <tr>\n",
              "      <th>2</th>\n",
              "      <td>2</td>\n",
              "      <td>male</td>\n",
              "      <td>62</td>\n",
              "      <td>0</td>\n",
              "      <td>0</td>\n",
              "      <td>9.6875</td>\n",
              "      <td>Q</td>\n",
              "    </tr>\n",
              "    <tr>\n",
              "      <th>3</th>\n",
              "      <td>3</td>\n",
              "      <td>male</td>\n",
              "      <td>27</td>\n",
              "      <td>0</td>\n",
              "      <td>0</td>\n",
              "      <td>8.6625</td>\n",
              "      <td>S</td>\n",
              "    </tr>\n",
              "    <tr>\n",
              "      <th>4</th>\n",
              "      <td>3</td>\n",
              "      <td>female</td>\n",
              "      <td>22</td>\n",
              "      <td>1</td>\n",
              "      <td>1</td>\n",
              "      <td>12.2875</td>\n",
              "      <td>S</td>\n",
              "    </tr>\n",
              "  </tbody>\n",
              "</table>\n",
              "</div>\n",
              "      <button class=\"colab-df-convert\" onclick=\"convertToInteractive('df-137cf71b-e07a-4736-9a57-37357845dc22')\"\n",
              "              title=\"Convert this dataframe to an interactive table.\"\n",
              "              style=\"display:none;\">\n",
              "        \n",
              "  <svg xmlns=\"http://www.w3.org/2000/svg\" height=\"24px\"viewBox=\"0 0 24 24\"\n",
              "       width=\"24px\">\n",
              "    <path d=\"M0 0h24v24H0V0z\" fill=\"none\"/>\n",
              "    <path d=\"M18.56 5.44l.94 2.06.94-2.06 2.06-.94-2.06-.94-.94-2.06-.94 2.06-2.06.94zm-11 1L8.5 8.5l.94-2.06 2.06-.94-2.06-.94L8.5 2.5l-.94 2.06-2.06.94zm10 10l.94 2.06.94-2.06 2.06-.94-2.06-.94-.94-2.06-.94 2.06-2.06.94z\"/><path d=\"M17.41 7.96l-1.37-1.37c-.4-.4-.92-.59-1.43-.59-.52 0-1.04.2-1.43.59L10.3 9.45l-7.72 7.72c-.78.78-.78 2.05 0 2.83L4 21.41c.39.39.9.59 1.41.59.51 0 1.02-.2 1.41-.59l7.78-7.78 2.81-2.81c.8-.78.8-2.07 0-2.86zM5.41 20L4 18.59l7.72-7.72 1.47 1.35L5.41 20z\"/>\n",
              "  </svg>\n",
              "      </button>\n",
              "      \n",
              "  <style>\n",
              "    .colab-df-container {\n",
              "      display:flex;\n",
              "      flex-wrap:wrap;\n",
              "      gap: 12px;\n",
              "    }\n",
              "\n",
              "    .colab-df-convert {\n",
              "      background-color: #E8F0FE;\n",
              "      border: none;\n",
              "      border-radius: 50%;\n",
              "      cursor: pointer;\n",
              "      display: none;\n",
              "      fill: #1967D2;\n",
              "      height: 32px;\n",
              "      padding: 0 0 0 0;\n",
              "      width: 32px;\n",
              "    }\n",
              "\n",
              "    .colab-df-convert:hover {\n",
              "      background-color: #E2EBFA;\n",
              "      box-shadow: 0px 1px 2px rgba(60, 64, 67, 0.3), 0px 1px 3px 1px rgba(60, 64, 67, 0.15);\n",
              "      fill: #174EA6;\n",
              "    }\n",
              "\n",
              "    [theme=dark] .colab-df-convert {\n",
              "      background-color: #3B4455;\n",
              "      fill: #D2E3FC;\n",
              "    }\n",
              "\n",
              "    [theme=dark] .colab-df-convert:hover {\n",
              "      background-color: #434B5C;\n",
              "      box-shadow: 0px 1px 3px 1px rgba(0, 0, 0, 0.15);\n",
              "      filter: drop-shadow(0px 1px 2px rgba(0, 0, 0, 0.3));\n",
              "      fill: #FFFFFF;\n",
              "    }\n",
              "  </style>\n",
              "\n",
              "      <script>\n",
              "        const buttonEl =\n",
              "          document.querySelector('#df-137cf71b-e07a-4736-9a57-37357845dc22 button.colab-df-convert');\n",
              "        buttonEl.style.display =\n",
              "          google.colab.kernel.accessAllowed ? 'block' : 'none';\n",
              "\n",
              "        async function convertToInteractive(key) {\n",
              "          const element = document.querySelector('#df-137cf71b-e07a-4736-9a57-37357845dc22');\n",
              "          const dataTable =\n",
              "            await google.colab.kernel.invokeFunction('convertToInteractive',\n",
              "                                                     [key], {});\n",
              "          if (!dataTable) return;\n",
              "\n",
              "          const docLinkHtml = 'Like what you see? Visit the ' +\n",
              "            '<a target=\"_blank\" href=https://colab.research.google.com/notebooks/data_table.ipynb>data table notebook</a>'\n",
              "            + ' to learn more about interactive tables.';\n",
              "          element.innerHTML = '';\n",
              "          dataTable['output_type'] = 'display_data';\n",
              "          await google.colab.output.renderOutput(dataTable, element);\n",
              "          const docLink = document.createElement('div');\n",
              "          docLink.innerHTML = docLinkHtml;\n",
              "          element.appendChild(docLink);\n",
              "        }\n",
              "      </script>\n",
              "    </div>\n",
              "  </div>\n",
              "  "
            ]
          },
          "metadata": {},
          "execution_count": 208
        }
      ]
    },
    {
      "cell_type": "code",
      "source": [
        "df_test = pd.get_dummies(df_test,drop_first=True)\n",
        "df_test.head()"
      ],
      "metadata": {
        "colab": {
          "base_uri": "https://localhost:8080/",
          "height": 206
        },
        "outputId": "9b32083c-75f0-42bb-ba62-d90f6adc5435",
        "id": "K1V4Ycg5OZKb"
      },
      "execution_count": 209,
      "outputs": [
        {
          "output_type": "execute_result",
          "data": {
            "text/plain": [
              "   Pclass  Age  SibSp  Parch     Fare  Sex_male  Embarked_Q  Embarked_S\n",
              "0       3   34      0      0   7.8292         1           1           0\n",
              "1       3   47      1      0   7.0000         0           0           1\n",
              "2       2   62      0      0   9.6875         1           1           0\n",
              "3       3   27      0      0   8.6625         1           0           1\n",
              "4       3   22      1      1  12.2875         0           0           1"
            ],
            "text/html": [
              "\n",
              "  <div id=\"df-8b469b2b-1747-4a31-a49d-13be8c9c61c6\">\n",
              "    <div class=\"colab-df-container\">\n",
              "      <div>\n",
              "<style scoped>\n",
              "    .dataframe tbody tr th:only-of-type {\n",
              "        vertical-align: middle;\n",
              "    }\n",
              "\n",
              "    .dataframe tbody tr th {\n",
              "        vertical-align: top;\n",
              "    }\n",
              "\n",
              "    .dataframe thead th {\n",
              "        text-align: right;\n",
              "    }\n",
              "</style>\n",
              "<table border=\"1\" class=\"dataframe\">\n",
              "  <thead>\n",
              "    <tr style=\"text-align: right;\">\n",
              "      <th></th>\n",
              "      <th>Pclass</th>\n",
              "      <th>Age</th>\n",
              "      <th>SibSp</th>\n",
              "      <th>Parch</th>\n",
              "      <th>Fare</th>\n",
              "      <th>Sex_male</th>\n",
              "      <th>Embarked_Q</th>\n",
              "      <th>Embarked_S</th>\n",
              "    </tr>\n",
              "  </thead>\n",
              "  <tbody>\n",
              "    <tr>\n",
              "      <th>0</th>\n",
              "      <td>3</td>\n",
              "      <td>34</td>\n",
              "      <td>0</td>\n",
              "      <td>0</td>\n",
              "      <td>7.8292</td>\n",
              "      <td>1</td>\n",
              "      <td>1</td>\n",
              "      <td>0</td>\n",
              "    </tr>\n",
              "    <tr>\n",
              "      <th>1</th>\n",
              "      <td>3</td>\n",
              "      <td>47</td>\n",
              "      <td>1</td>\n",
              "      <td>0</td>\n",
              "      <td>7.0000</td>\n",
              "      <td>0</td>\n",
              "      <td>0</td>\n",
              "      <td>1</td>\n",
              "    </tr>\n",
              "    <tr>\n",
              "      <th>2</th>\n",
              "      <td>2</td>\n",
              "      <td>62</td>\n",
              "      <td>0</td>\n",
              "      <td>0</td>\n",
              "      <td>9.6875</td>\n",
              "      <td>1</td>\n",
              "      <td>1</td>\n",
              "      <td>0</td>\n",
              "    </tr>\n",
              "    <tr>\n",
              "      <th>3</th>\n",
              "      <td>3</td>\n",
              "      <td>27</td>\n",
              "      <td>0</td>\n",
              "      <td>0</td>\n",
              "      <td>8.6625</td>\n",
              "      <td>1</td>\n",
              "      <td>0</td>\n",
              "      <td>1</td>\n",
              "    </tr>\n",
              "    <tr>\n",
              "      <th>4</th>\n",
              "      <td>3</td>\n",
              "      <td>22</td>\n",
              "      <td>1</td>\n",
              "      <td>1</td>\n",
              "      <td>12.2875</td>\n",
              "      <td>0</td>\n",
              "      <td>0</td>\n",
              "      <td>1</td>\n",
              "    </tr>\n",
              "  </tbody>\n",
              "</table>\n",
              "</div>\n",
              "      <button class=\"colab-df-convert\" onclick=\"convertToInteractive('df-8b469b2b-1747-4a31-a49d-13be8c9c61c6')\"\n",
              "              title=\"Convert this dataframe to an interactive table.\"\n",
              "              style=\"display:none;\">\n",
              "        \n",
              "  <svg xmlns=\"http://www.w3.org/2000/svg\" height=\"24px\"viewBox=\"0 0 24 24\"\n",
              "       width=\"24px\">\n",
              "    <path d=\"M0 0h24v24H0V0z\" fill=\"none\"/>\n",
              "    <path d=\"M18.56 5.44l.94 2.06.94-2.06 2.06-.94-2.06-.94-.94-2.06-.94 2.06-2.06.94zm-11 1L8.5 8.5l.94-2.06 2.06-.94-2.06-.94L8.5 2.5l-.94 2.06-2.06.94zm10 10l.94 2.06.94-2.06 2.06-.94-2.06-.94-.94-2.06-.94 2.06-2.06.94z\"/><path d=\"M17.41 7.96l-1.37-1.37c-.4-.4-.92-.59-1.43-.59-.52 0-1.04.2-1.43.59L10.3 9.45l-7.72 7.72c-.78.78-.78 2.05 0 2.83L4 21.41c.39.39.9.59 1.41.59.51 0 1.02-.2 1.41-.59l7.78-7.78 2.81-2.81c.8-.78.8-2.07 0-2.86zM5.41 20L4 18.59l7.72-7.72 1.47 1.35L5.41 20z\"/>\n",
              "  </svg>\n",
              "      </button>\n",
              "      \n",
              "  <style>\n",
              "    .colab-df-container {\n",
              "      display:flex;\n",
              "      flex-wrap:wrap;\n",
              "      gap: 12px;\n",
              "    }\n",
              "\n",
              "    .colab-df-convert {\n",
              "      background-color: #E8F0FE;\n",
              "      border: none;\n",
              "      border-radius: 50%;\n",
              "      cursor: pointer;\n",
              "      display: none;\n",
              "      fill: #1967D2;\n",
              "      height: 32px;\n",
              "      padding: 0 0 0 0;\n",
              "      width: 32px;\n",
              "    }\n",
              "\n",
              "    .colab-df-convert:hover {\n",
              "      background-color: #E2EBFA;\n",
              "      box-shadow: 0px 1px 2px rgba(60, 64, 67, 0.3), 0px 1px 3px 1px rgba(60, 64, 67, 0.15);\n",
              "      fill: #174EA6;\n",
              "    }\n",
              "\n",
              "    [theme=dark] .colab-df-convert {\n",
              "      background-color: #3B4455;\n",
              "      fill: #D2E3FC;\n",
              "    }\n",
              "\n",
              "    [theme=dark] .colab-df-convert:hover {\n",
              "      background-color: #434B5C;\n",
              "      box-shadow: 0px 1px 3px 1px rgba(0, 0, 0, 0.15);\n",
              "      filter: drop-shadow(0px 1px 2px rgba(0, 0, 0, 0.3));\n",
              "      fill: #FFFFFF;\n",
              "    }\n",
              "  </style>\n",
              "\n",
              "      <script>\n",
              "        const buttonEl =\n",
              "          document.querySelector('#df-8b469b2b-1747-4a31-a49d-13be8c9c61c6 button.colab-df-convert');\n",
              "        buttonEl.style.display =\n",
              "          google.colab.kernel.accessAllowed ? 'block' : 'none';\n",
              "\n",
              "        async function convertToInteractive(key) {\n",
              "          const element = document.querySelector('#df-8b469b2b-1747-4a31-a49d-13be8c9c61c6');\n",
              "          const dataTable =\n",
              "            await google.colab.kernel.invokeFunction('convertToInteractive',\n",
              "                                                     [key], {});\n",
              "          if (!dataTable) return;\n",
              "\n",
              "          const docLinkHtml = 'Like what you see? Visit the ' +\n",
              "            '<a target=\"_blank\" href=https://colab.research.google.com/notebooks/data_table.ipynb>data table notebook</a>'\n",
              "            + ' to learn more about interactive tables.';\n",
              "          element.innerHTML = '';\n",
              "          dataTable['output_type'] = 'display_data';\n",
              "          await google.colab.output.renderOutput(dataTable, element);\n",
              "          const docLink = document.createElement('div');\n",
              "          docLink.innerHTML = docLinkHtml;\n",
              "          element.appendChild(docLink);\n",
              "        }\n",
              "      </script>\n",
              "    </div>\n",
              "  </div>\n",
              "  "
            ]
          },
          "metadata": {},
          "execution_count": 209
        }
      ]
    },
    {
      "cell_type": "markdown",
      "source": [
        "## Масштабирование признаков"
      ],
      "metadata": {
        "id": "rpZlJSkT-8T-"
      }
    },
    {
      "cell_type": "code",
      "source": [
        "df_test[numeric] = scaler.transform(df_test[numeric])\n",
        "df_test.sample(7)"
      ],
      "metadata": {
        "colab": {
          "base_uri": "https://localhost:8080/",
          "height": 269
        },
        "id": "Y44zHSSuS8nE",
        "outputId": "7bd909a2-9e55-4ba9-d6a2-ceeff5112019"
      },
      "execution_count": 210,
      "outputs": [
        {
          "output_type": "execute_result",
          "data": {
            "text/plain": [
              "       Pclass       Age     SibSp     Parch      Fare  Sex_male  Embarked_Q  \\\n",
              "272 -1.448638 -0.484567  0.471957 -0.499763  1.933604         0           0   \n",
              "12  -1.448638 -0.593065  0.471957 -0.499763  0.899790         0           0   \n",
              "310  0.893358 -0.773895 -0.513274 -0.499763 -0.496092         1           0   \n",
              "182 -1.448638 -0.773895  0.471957 -0.499763  0.346652         0           0   \n",
              "353 -0.277640  0.347252  0.471957  1.865529  0.572332         1           0   \n",
              "26  -1.448638 -0.629231 -0.513274  0.682883  0.515044         0           0   \n",
              "91   0.893358  2.191720 -0.513274 -0.499763 -0.512923         1           0   \n",
              "\n",
              "     Embarked_S  \n",
              "272           0  \n",
              "12            1  \n",
              "310           1  \n",
              "182           1  \n",
              "353           1  \n",
              "26            0  \n",
              "91            1  "
            ],
            "text/html": [
              "\n",
              "  <div id=\"df-d9554998-d43a-4855-9df4-0d8f201e4e8b\">\n",
              "    <div class=\"colab-df-container\">\n",
              "      <div>\n",
              "<style scoped>\n",
              "    .dataframe tbody tr th:only-of-type {\n",
              "        vertical-align: middle;\n",
              "    }\n",
              "\n",
              "    .dataframe tbody tr th {\n",
              "        vertical-align: top;\n",
              "    }\n",
              "\n",
              "    .dataframe thead th {\n",
              "        text-align: right;\n",
              "    }\n",
              "</style>\n",
              "<table border=\"1\" class=\"dataframe\">\n",
              "  <thead>\n",
              "    <tr style=\"text-align: right;\">\n",
              "      <th></th>\n",
              "      <th>Pclass</th>\n",
              "      <th>Age</th>\n",
              "      <th>SibSp</th>\n",
              "      <th>Parch</th>\n",
              "      <th>Fare</th>\n",
              "      <th>Sex_male</th>\n",
              "      <th>Embarked_Q</th>\n",
              "      <th>Embarked_S</th>\n",
              "    </tr>\n",
              "  </thead>\n",
              "  <tbody>\n",
              "    <tr>\n",
              "      <th>272</th>\n",
              "      <td>-1.448638</td>\n",
              "      <td>-0.484567</td>\n",
              "      <td>0.471957</td>\n",
              "      <td>-0.499763</td>\n",
              "      <td>1.933604</td>\n",
              "      <td>0</td>\n",
              "      <td>0</td>\n",
              "      <td>0</td>\n",
              "    </tr>\n",
              "    <tr>\n",
              "      <th>12</th>\n",
              "      <td>-1.448638</td>\n",
              "      <td>-0.593065</td>\n",
              "      <td>0.471957</td>\n",
              "      <td>-0.499763</td>\n",
              "      <td>0.899790</td>\n",
              "      <td>0</td>\n",
              "      <td>0</td>\n",
              "      <td>1</td>\n",
              "    </tr>\n",
              "    <tr>\n",
              "      <th>310</th>\n",
              "      <td>0.893358</td>\n",
              "      <td>-0.773895</td>\n",
              "      <td>-0.513274</td>\n",
              "      <td>-0.499763</td>\n",
              "      <td>-0.496092</td>\n",
              "      <td>1</td>\n",
              "      <td>0</td>\n",
              "      <td>1</td>\n",
              "    </tr>\n",
              "    <tr>\n",
              "      <th>182</th>\n",
              "      <td>-1.448638</td>\n",
              "      <td>-0.773895</td>\n",
              "      <td>0.471957</td>\n",
              "      <td>-0.499763</td>\n",
              "      <td>0.346652</td>\n",
              "      <td>0</td>\n",
              "      <td>0</td>\n",
              "      <td>1</td>\n",
              "    </tr>\n",
              "    <tr>\n",
              "      <th>353</th>\n",
              "      <td>-0.277640</td>\n",
              "      <td>0.347252</td>\n",
              "      <td>0.471957</td>\n",
              "      <td>1.865529</td>\n",
              "      <td>0.572332</td>\n",
              "      <td>1</td>\n",
              "      <td>0</td>\n",
              "      <td>1</td>\n",
              "    </tr>\n",
              "    <tr>\n",
              "      <th>26</th>\n",
              "      <td>-1.448638</td>\n",
              "      <td>-0.629231</td>\n",
              "      <td>-0.513274</td>\n",
              "      <td>0.682883</td>\n",
              "      <td>0.515044</td>\n",
              "      <td>0</td>\n",
              "      <td>0</td>\n",
              "      <td>0</td>\n",
              "    </tr>\n",
              "    <tr>\n",
              "      <th>91</th>\n",
              "      <td>0.893358</td>\n",
              "      <td>2.191720</td>\n",
              "      <td>-0.513274</td>\n",
              "      <td>-0.499763</td>\n",
              "      <td>-0.512923</td>\n",
              "      <td>1</td>\n",
              "      <td>0</td>\n",
              "      <td>1</td>\n",
              "    </tr>\n",
              "  </tbody>\n",
              "</table>\n",
              "</div>\n",
              "      <button class=\"colab-df-convert\" onclick=\"convertToInteractive('df-d9554998-d43a-4855-9df4-0d8f201e4e8b')\"\n",
              "              title=\"Convert this dataframe to an interactive table.\"\n",
              "              style=\"display:none;\">\n",
              "        \n",
              "  <svg xmlns=\"http://www.w3.org/2000/svg\" height=\"24px\"viewBox=\"0 0 24 24\"\n",
              "       width=\"24px\">\n",
              "    <path d=\"M0 0h24v24H0V0z\" fill=\"none\"/>\n",
              "    <path d=\"M18.56 5.44l.94 2.06.94-2.06 2.06-.94-2.06-.94-.94-2.06-.94 2.06-2.06.94zm-11 1L8.5 8.5l.94-2.06 2.06-.94-2.06-.94L8.5 2.5l-.94 2.06-2.06.94zm10 10l.94 2.06.94-2.06 2.06-.94-2.06-.94-.94-2.06-.94 2.06-2.06.94z\"/><path d=\"M17.41 7.96l-1.37-1.37c-.4-.4-.92-.59-1.43-.59-.52 0-1.04.2-1.43.59L10.3 9.45l-7.72 7.72c-.78.78-.78 2.05 0 2.83L4 21.41c.39.39.9.59 1.41.59.51 0 1.02-.2 1.41-.59l7.78-7.78 2.81-2.81c.8-.78.8-2.07 0-2.86zM5.41 20L4 18.59l7.72-7.72 1.47 1.35L5.41 20z\"/>\n",
              "  </svg>\n",
              "      </button>\n",
              "      \n",
              "  <style>\n",
              "    .colab-df-container {\n",
              "      display:flex;\n",
              "      flex-wrap:wrap;\n",
              "      gap: 12px;\n",
              "    }\n",
              "\n",
              "    .colab-df-convert {\n",
              "      background-color: #E8F0FE;\n",
              "      border: none;\n",
              "      border-radius: 50%;\n",
              "      cursor: pointer;\n",
              "      display: none;\n",
              "      fill: #1967D2;\n",
              "      height: 32px;\n",
              "      padding: 0 0 0 0;\n",
              "      width: 32px;\n",
              "    }\n",
              "\n",
              "    .colab-df-convert:hover {\n",
              "      background-color: #E2EBFA;\n",
              "      box-shadow: 0px 1px 2px rgba(60, 64, 67, 0.3), 0px 1px 3px 1px rgba(60, 64, 67, 0.15);\n",
              "      fill: #174EA6;\n",
              "    }\n",
              "\n",
              "    [theme=dark] .colab-df-convert {\n",
              "      background-color: #3B4455;\n",
              "      fill: #D2E3FC;\n",
              "    }\n",
              "\n",
              "    [theme=dark] .colab-df-convert:hover {\n",
              "      background-color: #434B5C;\n",
              "      box-shadow: 0px 1px 3px 1px rgba(0, 0, 0, 0.15);\n",
              "      filter: drop-shadow(0px 1px 2px rgba(0, 0, 0, 0.3));\n",
              "      fill: #FFFFFF;\n",
              "    }\n",
              "  </style>\n",
              "\n",
              "      <script>\n",
              "        const buttonEl =\n",
              "          document.querySelector('#df-d9554998-d43a-4855-9df4-0d8f201e4e8b button.colab-df-convert');\n",
              "        buttonEl.style.display =\n",
              "          google.colab.kernel.accessAllowed ? 'block' : 'none';\n",
              "\n",
              "        async function convertToInteractive(key) {\n",
              "          const element = document.querySelector('#df-d9554998-d43a-4855-9df4-0d8f201e4e8b');\n",
              "          const dataTable =\n",
              "            await google.colab.kernel.invokeFunction('convertToInteractive',\n",
              "                                                     [key], {});\n",
              "          if (!dataTable) return;\n",
              "\n",
              "          const docLinkHtml = 'Like what you see? Visit the ' +\n",
              "            '<a target=\"_blank\" href=https://colab.research.google.com/notebooks/data_table.ipynb>data table notebook</a>'\n",
              "            + ' to learn more about interactive tables.';\n",
              "          element.innerHTML = '';\n",
              "          dataTable['output_type'] = 'display_data';\n",
              "          await google.colab.output.renderOutput(dataTable, element);\n",
              "          const docLink = document.createElement('div');\n",
              "          docLink.innerHTML = docLinkHtml;\n",
              "          element.appendChild(docLink);\n",
              "        }\n",
              "      </script>\n",
              "    </div>\n",
              "  </div>\n",
              "  "
            ]
          },
          "metadata": {},
          "execution_count": 210
        }
      ]
    },
    {
      "cell_type": "markdown",
      "source": [
        "## Вывод\n",
        "\n",
        "Наши тестовые данные готовы для получения скора"
      ],
      "metadata": {
        "id": "Fz6vA8YrOZKb"
      }
    },
    {
      "cell_type": "markdown",
      "source": [
        "# Получение предсказаний"
      ],
      "metadata": {
        "id": "r0O7c52ESxz3"
      }
    },
    {
      "cell_type": "code",
      "source": [
        "submission = pd.read_csv('/content/drive/MyDrive/1T_sprint_titanic/gender_submission.csv', index_col = 0)\n",
        "submission.info()"
      ],
      "metadata": {
        "colab": {
          "base_uri": "https://localhost:8080/"
        },
        "id": "TZhbkJ_U_i2M",
        "outputId": "f8b0982e-efeb-45a9-ea16-e0ce4696763f"
      },
      "execution_count": 211,
      "outputs": [
        {
          "output_type": "stream",
          "name": "stdout",
          "text": [
            "<class 'pandas.core.frame.DataFrame'>\n",
            "Int64Index: 418 entries, 892 to 1309\n",
            "Data columns (total 1 columns):\n",
            " #   Column    Non-Null Count  Dtype\n",
            "---  ------    --------------  -----\n",
            " 0   Survived  418 non-null    int64\n",
            "dtypes: int64(1)\n",
            "memory usage: 6.5 KB\n"
          ]
        }
      ]
    },
    {
      "cell_type": "markdown",
      "source": [
        "## Предсказания для лучшей модели LR"
      ],
      "metadata": {
        "id": "CGkG_6HrCPem"
      }
    },
    {
      "cell_type": "code",
      "source": [
        "submission['Survived'] = lr.predict(df_test)\n",
        "submission.to_csv('my_submission_lr.csv')"
      ],
      "metadata": {
        "id": "X8CAgFoq_GU1"
      },
      "execution_count": 212,
      "outputs": []
    },
    {
      "cell_type": "markdown",
      "source": [
        "![2022-12-13_22-53-44.png](data:image/png;base64,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)"
      ],
      "metadata": {
        "id": "LMawmKzBDW8x"
      }
    },
    {
      "cell_type": "markdown",
      "source": [
        "## Предсказания для лучшей модели KNN"
      ],
      "metadata": {
        "id": "Yoc9sluDCXMG"
      }
    },
    {
      "cell_type": "code",
      "source": [
        "submission['Survived'] = knn.predict(df_test)\n",
        "submission.to_csv('my_submission_knn.csv')"
      ],
      "metadata": {
        "id": "NPTol34mCEoB"
      },
      "execution_count": 213,
      "outputs": []
    },
    {
      "cell_type": "markdown",
      "source": [
        "![2022-12-13_22-54-05.png](data:image/png;base64,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)"
      ],
      "metadata": {
        "id": "YkaH9IQDDZrr"
      }
    },
    {
      "cell_type": "markdown",
      "source": [
        "## Предсказания для лучшей модели CatBoost"
      ],
      "metadata": {
        "id": "LAqVt37GHlcT"
      }
    },
    {
      "cell_type": "code",
      "source": [
        "submission['Survived'] = best_model.predict(df_test_catboost)\n",
        "submission.to_csv('my_submission_catboost.csv')\n"
      ],
      "metadata": {
        "id": "_5WlFqvwDdCO"
      },
      "execution_count": 214,
      "outputs": []
    },
    {
      "cell_type": "markdown",
      "source": [
        "![2022-12-13_23-12-15.png](data:image/png;base64,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)"
      ],
      "metadata": {
        "id": "WsyRN31CHg1e"
      }
    },
    {
      "cell_type": "markdown",
      "source": [
        "# Вывод"
      ],
      "metadata": {
        "id": "FnEL9jQiH2S0"
      }
    },
    {
      "cell_type": "markdown",
      "source": [
        "Как можно видеть, такая \"тяжелая\" модель, как CatBoost не дала прироста в скоре по сравнению с простыми моделями. Думаю, что датасет слишком прост для использования бустинга.\n",
        "\n",
        "Конечно, можно было бы сделать более хорошую предобработку данных. Так как данных мало и каждый пассажир в целом может иметь значение. \n",
        "\n",
        "Лучший скор показала модель KNN с подбором гиперпараметров. Accuracy = 0.753 на тестовой выборке."
      ],
      "metadata": {
        "id": "oSZSpuHuH4xZ"
      }
    }
  ]
}